{
 "cells": [
  {
   "cell_type": "markdown",
   "metadata": {
    "toc": true
   },
   "source": [
    "<h1>Table of Contents<span class=\"tocSkip\"></span></h1>\n",
    "<div class=\"toc\"><ul class=\"toc-item\"></ul></div>"
   ]
  },
  {
   "cell_type": "code",
   "execution_count": 1,
   "metadata": {},
   "outputs": [
    {
     "name": "stdout",
     "output_type": "stream",
     "text": [
      "Hello, world!\n"
     ]
    }
   ],
   "source": [
    "print(\"Hello, world!\")"
   ]
  },
  {
   "cell_type": "code",
   "execution_count": 2,
   "metadata": {
    "scrolled": true
   },
   "outputs": [
    {
     "data": {
      "text/plain": [
       "2"
      ]
     },
     "execution_count": 2,
     "metadata": {},
     "output_type": "execute_result"
    }
   ],
   "source": [
    "1+1"
   ]
  },
  {
   "cell_type": "code",
   "execution_count": 12,
   "metadata": {},
   "outputs": [
    {
     "data": {
      "text/plain": [
       "array([[1, 2],\n",
       "       [3, 4],\n",
       "       [5, 6],\n",
       "       [7, 8]])"
      ]
     },
     "execution_count": 12,
     "metadata": {},
     "output_type": "execute_result"
    }
   ],
   "source": [
    "import numpy as np\n",
    "from sklearn.model_selection import train_test_split, KFold\n",
    "X = np.array([[1,2],[3,4],[5,6],[7,8]])\n",
    "y = np.array([1,2,3,4])\n",
    "X"
   ]
  },
  {
   "cell_type": "code",
   "execution_count": 7,
   "metadata": {},
   "outputs": [
    {
     "data": {
      "text/plain": [
       "array([1, 2, 3, 4])"
      ]
     },
     "execution_count": 7,
     "metadata": {},
     "output_type": "execute_result"
    }
   ],
   "source": [
    "y"
   ]
  },
  {
   "cell_type": "code",
   "execution_count": 45,
   "metadata": {},
   "outputs": [
    {
     "name": "stdout",
     "output_type": "stream",
     "text": [
      "X_train: \n",
      " [[7 8]\n",
      " [5 6]]\n",
      "y_train:  [4 3]\n",
      "X_test: \n",
      " [[1 2]\n",
      " [3 4]]\n",
      "y_test:  [1 2]\n"
     ]
    }
   ],
   "source": [
    "X_train, X_test, y_train, y_test = train_test_split(X, y, test_size = 0.5)\n",
    "print(\"X_train: \\n\", X_train)\n",
    "print(\"y_train: \", y_train)\n",
    "print(\"X_test: \\n\", X_test)\n",
    "print(\"y_test: \", y_test)\n"
   ]
  },
  {
   "cell_type": "code",
   "execution_count": 46,
   "metadata": {},
   "outputs": [
    {
     "data": {
      "text/plain": [
       "(50000, 50)"
      ]
     },
     "execution_count": 46,
     "metadata": {},
     "output_type": "execute_result"
    }
   ],
   "source": [
    "n_samples, n_features = 50000, 50\n",
    "X = np.random.randn(n_samples, n_features)\n",
    "X.shape"
   ]
  },
  {
   "cell_type": "code",
   "execution_count": 48,
   "metadata": {},
   "outputs": [],
   "source": [
    "y = np.random.randn(n_samples)"
   ]
  },
  {
   "cell_type": "code",
   "execution_count": 49,
   "metadata": {},
   "outputs": [
    {
     "data": {
      "text/plain": [
       "(50000,)"
      ]
     },
     "execution_count": 49,
     "metadata": {},
     "output_type": "execute_result"
    }
   ],
   "source": [
    "y.shape"
   ]
  },
  {
   "cell_type": "code",
   "execution_count": 50,
   "metadata": {},
   "outputs": [],
   "source": [
    "X_train, X_test, y_train, y_test = train_test_split(X,y, test_size =0.3)"
   ]
  },
  {
   "cell_type": "code",
   "execution_count": 51,
   "metadata": {},
   "outputs": [
    {
     "data": {
      "text/plain": [
       "(35000, 50)"
      ]
     },
     "execution_count": 51,
     "metadata": {},
     "output_type": "execute_result"
    }
   ],
   "source": [
    "X_train.shape"
   ]
  },
  {
   "cell_type": "code",
   "execution_count": 52,
   "metadata": {},
   "outputs": [
    {
     "data": {
      "text/plain": [
       "(15000, 50)"
      ]
     },
     "execution_count": 52,
     "metadata": {},
     "output_type": "execute_result"
    }
   ],
   "source": [
    "X_test.shape"
   ]
  },
  {
   "cell_type": "code",
   "execution_count": 54,
   "metadata": {},
   "outputs": [
    {
     "data": {
      "text/plain": [
       "(35000,)"
      ]
     },
     "execution_count": 54,
     "metadata": {},
     "output_type": "execute_result"
    }
   ],
   "source": [
    "y_train.shape"
   ]
  },
  {
   "cell_type": "code",
   "execution_count": 55,
   "metadata": {},
   "outputs": [
    {
     "data": {
      "text/plain": [
       "(15000,)"
      ]
     },
     "execution_count": 55,
     "metadata": {},
     "output_type": "execute_result"
    }
   ],
   "source": [
    "y_test.shape"
   ]
  },
  {
   "cell_type": "code",
   "execution_count": 57,
   "metadata": {
    "scrolled": false
   },
   "outputs": [
    {
     "data": {
      "text/plain": [
       "array([[-0.01774964,  0.09319153,  0.72733902, -1.42020787,  1.81458139],\n",
       "       [ 1.26247226,  1.0983478 ,  1.41285798, -1.02390422, -1.2316807 ],\n",
       "       [ 0.7123197 ,  0.60462987,  0.92283753,  0.01055271,  1.56883748],\n",
       "       [-0.44295375, -1.49461457, -0.74092911, -0.87652397, -0.30014576],\n",
       "       [-0.97864096,  0.00641766, -1.39281515,  0.45838917, -0.86495751],\n",
       "       [ 1.34733105,  2.75628651, -0.90444966,  0.01315348,  1.71369099],\n",
       "       [-0.19237149,  0.25878203,  1.08329517, -0.13802815,  0.60794031],\n",
       "       [-0.05633043, -0.87760799,  0.90988682,  0.00325492,  0.59647578],\n",
       "       [-0.76058509,  0.00711028,  0.2941738 , -1.07522086, -0.68868921],\n",
       "       [-0.36132784,  0.18398663,  0.32698814,  1.72539744,  0.86778908],\n",
       "       [ 0.74290739, -1.96157321, -0.15161192, -0.48559484, -0.66666075],\n",
       "       [ 1.53121449,  1.25018478, -1.73090731, -1.01157899,  1.23809998],\n",
       "       [ 0.91465338,  1.65147568, -0.42454724, -0.2162354 ,  0.78654031],\n",
       "       [-1.27286164,  1.00526574,  0.54391773, -2.6028592 ,  1.06426543],\n",
       "       [ 0.78756815,  1.38155535,  0.95799512,  0.32355444, -0.32065189],\n",
       "       [-0.90973327, -1.61645524,  1.38849206, -0.38351546, -0.60610734],\n",
       "       [-0.23017834,  0.13644788,  0.8803627 , -2.01460587,  0.79892841],\n",
       "       [ 0.43026241,  0.56225645,  1.62035344, -0.38918075, -0.67637792],\n",
       "       [ 1.42300414,  1.31582996, -0.70220692,  0.59133801, -1.73643623],\n",
       "       [ 0.72342538,  1.07153668, -2.04279426, -0.31001373, -0.56863067],\n",
       "       [-0.18475148,  1.94429968, -0.39156302,  0.45128605, -0.73170501],\n",
       "       [-0.25078927,  1.24088151,  0.46556497,  0.90226897, -1.08035287],\n",
       "       [-0.16669639, -0.43657244,  1.10955173,  0.28226339, -0.30320725],\n",
       "       [-1.81345567,  1.9753181 ,  1.24655677,  0.08378667,  0.5592317 ],\n",
       "       [ 0.55456598, -1.88811294,  0.52554929, -0.83791524,  0.68211364],\n",
       "       [ 0.31503707,  1.65102116, -0.52005852,  0.02194476,  0.41909274],\n",
       "       [-0.27201661,  0.94966499, -1.47809448,  0.16307651,  0.45006662],\n",
       "       [-0.11030796, -0.73095003,  0.59865735,  1.51104206,  0.43508811],\n",
       "       [ 0.00341357,  0.71218995, -0.48827885,  2.50578602, -1.24676507],\n",
       "       [ 1.01131665, -0.7439084 ,  1.44317929,  1.23243084,  1.93568882]])"
      ]
     },
     "execution_count": 57,
     "metadata": {},
     "output_type": "execute_result"
    }
   ],
   "source": [
    "X = np.random.randn(30,5)\n",
    "X"
   ]
  },
  {
   "cell_type": "code",
   "execution_count": 59,
   "metadata": {},
   "outputs": [
    {
     "data": {
      "text/plain": [
       "array([-0.0223002 ,  1.08809378,  1.22051592, -0.70716684, -1.87803188,\n",
       "        3.83265257,  1.26912168,  0.59363667, -3.0606454 , -0.94148542,\n",
       "        0.11482998,  2.93686924,  2.18634527, -1.71349296,  0.8847437 ,\n",
       "       -1.93123259,  0.076808  ,  2.03733414,  2.78284415,  4.0510119 ,\n",
       "       -0.84811034, -0.16191301, -0.11153839, -2.66274211,  2.5168006 ,\n",
       "        0.77299367, -0.82016259,  0.17705201,  0.84580092,  1.73424469])"
      ]
     },
     "execution_count": 59,
     "metadata": {},
     "output_type": "execute_result"
    }
   ],
   "source": [
    "y = X[:, 0]*2 + np.random.randn(30)\n",
    "y"
   ]
  },
  {
   "cell_type": "code",
   "execution_count": 63,
   "metadata": {},
   "outputs": [
    {
     "data": {
      "text/plain": [
       "<matplotlib.collections.PathCollection at 0x7ffa851435c0>"
      ]
     },
     "execution_count": 63,
     "metadata": {},
     "output_type": "execute_result"
    },
    {
     "data": {
      "image/png": "[encoded data removed]",
      "text/plain": [
       "<Figure size 432x288 with 1 Axes>"
      ]
     },
     "metadata": {
      "needs_background": "light"
     },
     "output_type": "display_data"
    }
   ],
   "source": [
    "import matplotlib.pyplot as plt\n",
    "plt.scatter(X[:, 0], y)"
   ]
  },
  {
   "cell_type": "code",
   "execution_count": 65,
   "metadata": {},
   "outputs": [
    {
     "data": {
      "text/plain": [
       "array([ 1.82249438,  0.07160421, -0.14171781,  0.0461587 ,  0.20533557])"
      ]
     },
     "execution_count": 65,
     "metadata": {},
     "output_type": "execute_result"
    }
   ],
   "source": [
    "from sklearn.linear_model import LinearRegression\n",
    "lr = LinearRegression()\n",
    "lr.fit(X,y)\n",
    "lr.coef_"
   ]
  },
  {
   "cell_type": "code",
   "execution_count": 66,
   "metadata": {},
   "outputs": [
    {
     "data": {
      "text/plain": [
       "array([ 0.39657149,  2.09737878,  1.75161636, -0.69310744, -1.52388836,\n",
       "        3.35181141, -0.14884679,  0.04645939, -1.40010485, -0.21557277,\n",
       "        1.29395108,  3.55126241,  2.21517366, -2.00821686,  1.5658733 ,\n",
       "       -1.89437986, -0.24515379,  0.65621023,  2.67617544,  1.77187656,\n",
       "       -0.05313039, -0.39609491, -0.32325628, -3.00325238,  1.12068289,\n",
       "        1.07142343,  0.0999466 ,  0.0391526 ,  0.20435438,  2.25796185])"
      ]
     },
     "execution_count": 66,
     "metadata": {},
     "output_type": "execute_result"
    }
   ],
   "source": [
    "y_hat = lr.predict(X)\n",
    "y_hat"
   ]
  },
  {
   "cell_type": "code",
   "execution_count": 70,
   "metadata": {},
   "outputs": [
    {
     "data": {
      "text/plain": [
       "0.7134112388021431"
      ]
     },
     "execution_count": 70,
     "metadata": {},
     "output_type": "execute_result"
    }
   ],
   "source": [
    "#MSE \n",
    "np.sum((y_hat - y)**2)/30"
   ]
  }
 ],
 "metadata": {
  "kernelspec": {
   "display_name": "Python 3",
   "language": "python",
   "name": "python3"
  },
  "language_info": {
   "codemirror_mode": {
    "name": "ipython",
    "version": 3
   },
   "file_extension": ".py",
   "mimetype": "text/x-python",
   "name": "python",
   "nbconvert_exporter": "python",
   "pygments_lexer": "ipython3",
   "version": "3.6.9"
  },
  "latex_envs": {
   "LaTeX_envs_menu_present": true,
   "autoclose": true,
   "autocomplete": true,
   "bibliofile": "biblio.bib",
   "cite_by": "apalike",
   "current_citInitial": 1,
   "eqLabelWithNumbers": true,
   "eqNumInitial": 1,
   "hotkeys": {
    "equation": "Ctrl-E",
    "itemize": "Ctrl-I"
   },
   "labels_anchors": false,
   "latex_user_defs": false,
   "report_style_numbering": true,
   "user_envs_cfg": false
  },
  "toc": {
   "base_numbering": 1,
   "nav_menu": {},
   "number_sections": true,
   "sideBar": true,
   "skip_h1_title": false,
   "title_cell": "Table of Contents",
   "title_sidebar": "Contents",
   "toc_cell": true,
   "toc_position": {},
   "toc_section_display": true,
   "toc_window_display": true
  }
 },
 "nbformat": 4,
 "nbformat_minor": 2
}
