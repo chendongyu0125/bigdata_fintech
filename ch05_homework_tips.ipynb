{
 "cells": [
  {
   "cell_type": "code",
   "execution_count": null,
   "id": "34e9d6c2",
   "metadata": {},
   "outputs": [],
   "source": [
    "# 课后练习1\n",
    "\n",
    "#发现当特征减小时，无关变量变少，数据质量变好，无论用什么模型都能取得比较好的结果"
   ]
  },
  {
   "cell_type": "code",
   "execution_count": 46,
   "id": "73517033",
   "metadata": {},
   "outputs": [],
   "source": [
    "# 课后练习2\n",
    "## 预测小区住宅价格，评估模型\n",
    "\n",
    "## 导入包"
   ]
  },
  {
   "cell_type": "code",
   "execution_count": null,
   "id": "bbad69f6",
   "metadata": {},
   "outputs": [],
   "source": [
    "import numpy as np\n",
    "import matplotlib.pyplot as plt"
   ]
  },
  {
   "cell_type": "code",
   "execution_count": null,
   "id": "2d2a2af7",
   "metadata": {},
   "outputs": [],
   "source": [
    "## 准备数据"
   ]
  },
  {
   "cell_type": "code",
   "execution_count": 3,
   "id": "64d59924",
   "metadata": {},
   "outputs": [
    {
     "data": {
      "text/plain": [
       "array([[ 0.859,  0.284, -0.969, ...,  2.008,  0.096, -0.547],\n",
       "       [-0.602,  0.247,  0.089, ..., -1.639,  0.628, -0.52 ],\n",
       "       [-1.732, -0.373, -0.143, ..., -0.982, -1.363, -3.71 ],\n",
       "       ...,\n",
       "       [-0.138, -1.5  , -1.056, ...,  1.451, -0.566, -1.38 ],\n",
       "       [-0.12 , -1.479, -0.332, ...,  0.407,  1.202, -2.696],\n",
       "       [ 0.552,  1.371,  0.771, ..., -0.656,  0.257,  1.715]])"
      ]
     },
     "execution_count": 3,
     "metadata": {},
     "output_type": "execute_result"
    }
   ],
   "source": [
    "file_path= \"ch05_housing_train.csv\" #最好将数据文件放在同一个目录，否则需要给出完整路径\n",
    "data = np.loadtxt(file_path, delimiter = \",\", skiprows=1) # 跳过第一行，因为第一行是变量名\n",
    "data  "
   ]
  },
  {
   "cell_type": "code",
   "execution_count": 4,
   "id": "d8eae094",
   "metadata": {},
   "outputs": [
    {
     "data": {
      "text/plain": [
       "(350, 31)"
      ]
     },
     "execution_count": 4,
     "metadata": {},
     "output_type": "execute_result"
    }
   ],
   "source": [
    "data.shape  #一共30个变量，最后一个变量为需要预测的目标变量"
   ]
  },
  {
   "cell_type": "code",
   "execution_count": 21,
   "id": "c8a67349",
   "metadata": {},
   "outputs": [
    {
     "name": "stdout",
     "output_type": "stream",
     "text": [
      "(350, 30)\n",
      "(350,)\n"
     ]
    }
   ],
   "source": [
    "X = data[:,:30]\n",
    "y = data[:,30]\n",
    "print(X.shape)\n",
    "print(y.shape)"
   ]
  },
  {
   "cell_type": "code",
   "execution_count": 22,
   "id": "a8f72994",
   "metadata": {},
   "outputs": [],
   "source": [
    "from sklearn.model_selection import train_test_split\n",
    "X_train, X_test, y_train, y_test = train_test_split(X, y, test_size = 0.3, random_state= 0)  #把数据拆分成训练集和测试集"
   ]
  },
  {
   "cell_type": "code",
   "execution_count": null,
   "id": "ac33492a",
   "metadata": {},
   "outputs": [],
   "source": [
    "# 建立预测模型\n",
    "# 普通OLS模型"
   ]
  },
  {
   "cell_type": "code",
   "execution_count": 23,
   "id": "a5ffdefd",
   "metadata": {},
   "outputs": [
    {
     "data": {
      "text/plain": [
       "array([ 1.95682492,  0.5637386 ,  0.27200138, -0.00659196,  0.05856361,\n",
       "        0.02225181, -0.00927554,  0.06602453,  0.04366134,  0.0357387 ,\n",
       "        0.07056654, -0.01496649,  0.06012827,  0.018744  ,  0.05825429,\n",
       "        0.03107059,  0.01686244, -0.06043998, -0.08384469, -0.00980351,\n",
       "       -0.06216054, -0.04786145,  0.07998399,  0.09642414,  0.04925928,\n",
       "        0.05991021,  0.10617173,  0.05969181, -0.03077123, -0.05926183])"
      ]
     },
     "execution_count": 23,
     "metadata": {},
     "output_type": "execute_result"
    }
   ],
   "source": [
    "from sklearn.linear_model import LinearRegression, Lasso, Ridge\n",
    "lr = LinearRegression()\n",
    "lr.fit(X_train, y_train)\n",
    "lr.coef_"
   ]
  },
  {
   "cell_type": "code",
   "execution_count": null,
   "id": "014da346",
   "metadata": {},
   "outputs": [],
   "source": [
    "# 评估模型"
   ]
  },
  {
   "cell_type": "code",
   "execution_count": 24,
   "id": "c1ea2689",
   "metadata": {},
   "outputs": [
    {
     "name": "stdout",
     "output_type": "stream",
     "text": [
      "训练集 mse： 0.9313186761059498\n",
      "测试集 mse:  1.2242967932821884\n"
     ]
    }
   ],
   "source": [
    "y_train_hat = lr.predict(X_train)\n",
    "y_test_hat = lr.predict(X_test)\n",
    "\n",
    "from sklearn.metrics import mean_squared_error\n",
    "mse_train = mean_squared_error(y_train, y_train_hat)\n",
    "mse_test = mean_squared_error(y_test, y_test_hat)\n",
    "print(f\"训练集 mse： {mse_train}\")\n",
    "print(f\"测试集 mse:  {mse_test}\")"
   ]
  },
  {
   "cell_type": "code",
   "execution_count": 34,
   "id": "9086a3a8",
   "metadata": {},
   "outputs": [
    {
     "data": {
      "text/plain": [
       "array([ 1.95275522,  0.56273341,  0.27109653, -0.00653245,  0.05758574,\n",
       "        0.02207618, -0.00928026,  0.06592762,  0.04364621,  0.0353799 ,\n",
       "        0.0700326 , -0.01498902,  0.06030795,  0.01942367,  0.05841646,\n",
       "        0.03085356,  0.01691131, -0.06010672, -0.08333056, -0.00920607,\n",
       "       -0.06146648, -0.04727986,  0.0793327 ,  0.09607815,  0.04958865,\n",
       "        0.05993774,  0.10547293,  0.05985506, -0.03035578, -0.05896664])"
      ]
     },
     "execution_count": 34,
     "metadata": {},
     "output_type": "execute_result"
    }
   ],
   "source": [
    "#建立预测模型\n",
    "# Ridge模型\n",
    "rlr = Ridge(alpha=0.5)\n",
    "rlr.fit(X_train, y_train)\n",
    "rlr.coef_"
   ]
  },
  {
   "cell_type": "code",
   "execution_count": 35,
   "id": "1c2a7792",
   "metadata": {},
   "outputs": [
    {
     "name": "stdout",
     "output_type": "stream",
     "text": [
      "训练集 mse： 0.931337343840274\n",
      "测试集 mse:  1.2235749283858581\n"
     ]
    }
   ],
   "source": [
    "#评估模型\n",
    "y_train_hat = rlr.predict(X_train)\n",
    "y_test_hat = rlr.predict(X_test)\n",
    "mse_train = mean_squared_error(y_train_hat, y_train)\n",
    "mse_test = mean_squared_error(y_test_hat, y_test)\n",
    "print(f\"训练集 mse： {mse_train}\")\n",
    "print(f\"测试集 mse:  {mse_test}\")"
   ]
  },
  {
   "cell_type": "code",
   "execution_count": 31,
   "id": "93e5b243",
   "metadata": {},
   "outputs": [],
   "source": [
    "# 可以发现以上两个回归的结果没有太大差别\n",
    "# 可以尝试调整超参数alpha，看看结果有没有什么差异"
   ]
  },
  {
   "cell_type": "code",
   "execution_count": 32,
   "id": "c12a9669",
   "metadata": {},
   "outputs": [
    {
     "data": {
      "text/plain": [
       "array([ 1.85348463,  0.47692785,  0.15674869, -0.        , -0.        ,\n",
       "       -0.        , -0.        ,  0.        ,  0.        ,  0.        ,\n",
       "        0.        , -0.        ,  0.        ,  0.        ,  0.        ,\n",
       "        0.        ,  0.        , -0.        , -0.        ,  0.        ,\n",
       "       -0.        ,  0.        ,  0.        ,  0.        ,  0.        ,\n",
       "        0.        ,  0.        ,  0.        , -0.        , -0.        ])"
      ]
     },
     "execution_count": 32,
     "metadata": {},
     "output_type": "execute_result"
    }
   ],
   "source": [
    "#建立预测模型\n",
    "#Lasso模型\n",
    "llr = Lasso(alpha=0.1)\n",
    "llr.fit(X_train, y_train)\n",
    "llr.coef_"
   ]
  },
  {
   "cell_type": "code",
   "execution_count": 33,
   "id": "f5391748",
   "metadata": {},
   "outputs": [
    {
     "name": "stdout",
     "output_type": "stream",
     "text": [
      "训练集 mse： 0.9313929686260892\n",
      "测试集 mse:  1.2229091054185406\n"
     ]
    }
   ],
   "source": [
    "y_train_pred = llr.predict(X_train)\n",
    "y_test_pred = llr.predict(X_test)\n",
    "mse_train = mean_squared_error(y_train_hat, y_train)\n",
    "mse_test = mean_squared_error(y_test_hat, y_test)\n",
    "print(f\"训练集 mse： {mse_train}\")\n",
    "print(f\"测试集 mse:  {mse_test}\")"
   ]
  },
  {
   "cell_type": "code",
   "execution_count": 37,
   "id": "f913e143",
   "metadata": {},
   "outputs": [],
   "source": [
    "# 可以发现以上三个回归的结果没有太大差别,Lasso模型略好一点\n",
    "# 可以尝试调整超参数alpha，看看结果有没有什么差异"
   ]
  },
  {
   "cell_type": "code",
   "execution_count": 38,
   "id": "d1ac2789",
   "metadata": {},
   "outputs": [
    {
     "data": {
      "text/plain": [
       "(150, 30)"
      ]
     },
     "execution_count": 38,
     "metadata": {},
     "output_type": "execute_result"
    }
   ],
   "source": [
    "#最终选择Lasso模型\n",
    "test = np.loadtxt(\"ch05_housing_test.csv\", skiprows=1, delimiter=\",\")\n",
    "test.shape"
   ]
  },
  {
   "cell_type": "code",
   "execution_count": 39,
   "id": "00559d97",
   "metadata": {},
   "outputs": [
    {
     "data": {
      "text/plain": [
       "array([-4.86061593,  2.80260637,  3.03541893,  1.09564706,  0.04870668,\n",
       "       -1.46392562, -1.27129981,  5.00777021, -2.09256716, -0.98357805,\n",
       "        0.02208841,  0.06592848, -0.36593021, -0.90080615,  2.11347952,\n",
       "        1.29518391,  2.28580521, -0.60556423,  0.09694028,  0.62373238,\n",
       "        1.71399693, -2.54948276,  0.67445064,  1.73015932, -0.33219608,\n",
       "        2.02332358, -1.22825442, -2.42725627, -2.23479211, -1.72738091,\n",
       "       -1.3840677 ,  2.61502948, -2.45279434, -0.17864143, -3.92691677,\n",
       "        2.03825584,  0.02784818,  1.28287382, -3.19644463, -3.20113248,\n",
       "        3.0091274 ,  2.17288489, -2.52405042,  1.19807663, -2.1064904 ,\n",
       "        0.3562212 ,  0.19992435, -2.59172351,  1.3248324 , -1.20215084,\n",
       "       -1.77987221,  0.13908987, -0.28856243,  2.17956836, -2.18285179,\n",
       "        1.46957495, -0.08830642, -1.82701934, -1.91666902,  2.56340473,\n",
       "        0.80603219,  2.29710176, -1.5227861 , -1.96718454, -0.87209903,\n",
       "       -3.84122897, -1.6224092 , -3.94763118, -2.07440253,  1.64944686,\n",
       "       -1.86999878, -2.40595212,  2.28585127,  3.85982227, -1.81131439,\n",
       "        1.8645867 , -1.21534741,  3.2339488 ,  0.36816726,  0.11812159,\n",
       "        2.85391923,  2.12567   , -1.70514537,  2.72242771, -0.61595134,\n",
       "       -1.89598315, -1.36480366, -4.17157182,  2.36116929, -1.97316558,\n",
       "        3.85887021, -0.77406876, -1.09725986,  3.3942437 , -0.03335645,\n",
       "       -0.84960488,  0.48559163, -0.28726074,  1.63539687,  0.08607322,\n",
       "       -1.30280429,  3.53209007, -1.29019249, -0.67038626, -1.38501032,\n",
       "       -1.90206787,  0.32365392, -0.26381732,  2.85028876,  1.41643002,\n",
       "        0.90540781,  1.9889068 ,  0.79323413, -1.36301245,  2.51169977,\n",
       "       -4.61724672,  0.28527334, -0.38411214, -0.46340418,  0.02599817,\n",
       "       -1.43555512,  1.58498158, -3.51925051,  3.66036075,  2.06168105,\n",
       "        1.08077044, -0.08213004,  2.30137457, -2.75402837, -5.19296605,\n",
       "       -0.72657883,  0.60697409, -0.92709289,  1.51134141,  2.08941101,\n",
       "       -1.42565012, -0.3459248 ,  0.29552261, -1.06270079, -1.02941194,\n",
       "        1.60446784,  2.48676117,  2.3061471 ,  3.13209341,  2.42579742,\n",
       "        0.24732282,  0.15415722, -0.15090699,  6.18061023,  0.60200786])"
      ]
     },
     "execution_count": 39,
     "metadata": {},
     "output_type": "execute_result"
    }
   ],
   "source": [
    "pred = llr.predict(test)  #预测结果\n",
    "pred"
   ]
  },
  {
   "cell_type": "code",
   "execution_count": 44,
   "id": "f3ba700b",
   "metadata": {},
   "outputs": [
    {
     "data": {
      "text/plain": [
       "array([-5.977,  3.882,  2.103,  0.375, -0.48 , -0.512, -1.365,  5.828,\n",
       "       -4.182, -1.166, -0.287,  0.84 ,  0.945, -1.603,  3.832,  0.477,\n",
       "        1.382,  0.327,  0.048,  1.035,  2.138, -3.531,  1.844,  3.567,\n",
       "       -1.712,  2.807, -1.855, -1.49 , -1.709, -1.709, -1.894,  2.826,\n",
       "       -3.808, -1.43 , -4.869,  2.77 ,  0.705, -0.292, -3.125, -3.777,\n",
       "        1.736,  0.325, -2.935,  1.189, -0.421,  0.82 , -0.527, -4.029,\n",
       "        2.605, -2.192, -2.622,  0.63 ,  0.677,  1.574, -3.193,  0.754,\n",
       "       -1.919, -1.067, -1.614,  4.215,  1.038,  0.95 , -1.768, -0.883,\n",
       "       -1.963, -2.108, -0.82 , -2.351, -4.113,  2.154, -0.513, -0.988,\n",
       "        1.931,  4.135,  0.122,  2.974, -1.888,  2.875,  1.631,  0.562,\n",
       "        3.69 ,  2.874, -1.428,  1.342, -0.483, -0.203, -2.447, -4.892,\n",
       "        3.331, -4.172,  3.571, -1.949, -1.41 ,  3.119, -0.723, -1.475,\n",
       "        0.853, -0.177,  2.159,  0.271, -1.367,  2.558, -0.262, -0.357,\n",
       "       -2.608, -1.66 , -0.367, -0.416,  2.856,  0.311,  2.008,  1.743,\n",
       "       -0.681, -1.37 ,  3.401, -5.212,  0.42 , -0.576, -0.813,  1.374,\n",
       "       -4.141,  2.406, -3.14 ,  4.568,  2.11 , -0.055, -1.642,  3.817,\n",
       "       -3.882, -7.946, -1.329,  1.331, -0.969, -0.179,  1.708, -2.493,\n",
       "       -0.576,  1.121, -1.678, -3.255,  2.81 ,  2.911,  3.198,  3.856,\n",
       "        2.54 ,  0.793, -0.999,  0.591,  6.597,  1.734])"
      ]
     },
     "execution_count": 44,
     "metadata": {},
     "output_type": "execute_result"
    }
   ],
   "source": [
    "#将结果与真实值进行比较\n",
    "ground_data = np.loadtxt(\"ch05_housing_test_truth.csv\", skiprows=1, delimiter=\",\")\n",
    "y_ground = ground_data[:,30]\n",
    "y_ground"
   ]
  },
  {
   "cell_type": "code",
   "execution_count": 45,
   "id": "6342d4d0",
   "metadata": {},
   "outputs": [
    {
     "name": "stdout",
     "output_type": "stream",
     "text": [
      "最终测试集mse: 1.0477642554643183\n"
     ]
    }
   ],
   "source": [
    "mse = mean_squared_error(y_ground, pred)\n",
    "print(f\"最终测试集mse: {mse}\")"
   ]
  }
 ],
 "metadata": {
  "kernelspec": {
   "display_name": "Python 3",
   "language": "python",
   "name": "python3"
  },
  "language_info": {
   "codemirror_mode": {
    "name": "ipython",
    "version": 3
   },
   "file_extension": ".py",
   "mimetype": "text/x-python",
   "name": "python",
   "nbconvert_exporter": "python",
   "pygments_lexer": "ipython3",
   "version": "3.8.8"
  }
 },
 "nbformat": 4,
 "nbformat_minor": 5
}
