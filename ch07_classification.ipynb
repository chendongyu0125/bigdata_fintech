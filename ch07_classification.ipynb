{
 "cells": [
  {
   "cell_type": "code",
   "execution_count": 1,
   "id": "932c4809",
   "metadata": {},
   "outputs": [
    {
     "data": {
      "text/plain": [
       "0.29852004440856167"
      ]
     },
     "execution_count": 1,
     "metadata": {},
     "output_type": "execute_result"
    }
   ],
   "source": [
    "# 计算分类概率\n",
    "\n",
    "import numpy as np\n",
    "\n",
    "#计算第一个数据属于类别2的概率\n",
    "np.exp(0.3*1+0.2*2)/(np.exp(0.2*1+0.4*2)+np.exp(0.3*1+0.2*2)+np.exp(0.5*1+0.1*2))"
   ]
  },
  {
   "cell_type": "code",
   "execution_count": 2,
   "id": "760cd3e8",
   "metadata": {},
   "outputs": [
    {
     "data": {
      "text/plain": [
       "array([[1.  , 0.7 , 0.7 ],\n",
       "       [0.22, 0.17, 0.19],\n",
       "       [0.34, 0.27, 0.31]])"
      ]
     },
     "execution_count": 2,
     "metadata": {},
     "output_type": "execute_result"
    }
   ],
   "source": [
    "#使用矩阵\n",
    "\n",
    "X=np.array([[1,2],[.3,.4],[.5,.6]])\n",
    "W=np.array([[.2,.3,.5],[.4,.2,.1]])\n",
    "Z = X.dot(W)\n",
    "Z"
   ]
  },
  {
   "cell_type": "code",
   "execution_count": 5,
   "id": "c3951ec8",
   "metadata": {},
   "outputs": [
    {
     "data": {
      "text/plain": [
       "array([[2.71828183, 2.01375271, 2.01375271],\n",
       "       [1.24607673, 1.18530485, 1.2092496 ],\n",
       "       [1.40494759, 1.30996445, 1.36342511]])"
      ]
     },
     "execution_count": 5,
     "metadata": {},
     "output_type": "execute_result"
    }
   ],
   "source": [
    "np.exp(Z)"
   ]
  },
  {
   "cell_type": "code",
   "execution_count": 7,
   "id": "4971ed36",
   "metadata": {},
   "outputs": [
    {
     "data": {
      "text/plain": [
       "array([6.74578724, 3.64063118, 4.07833716])"
      ]
     },
     "execution_count": 7,
     "metadata": {},
     "output_type": "execute_result"
    }
   ],
   "source": [
    "np.sum(np.exp(Z), axis=1)"
   ]
  },
  {
   "cell_type": "code",
   "execution_count": 8,
   "id": "1723fec0",
   "metadata": {},
   "outputs": [
    {
     "data": {
      "text/plain": [
       "array([[6.74578724],\n",
       "       [3.64063118],\n",
       "       [4.07833716]])"
      ]
     },
     "execution_count": 8,
     "metadata": {},
     "output_type": "execute_result"
    }
   ],
   "source": [
    "np.sum(np.exp(Z), axis=1).reshape(-1,1)"
   ]
  },
  {
   "cell_type": "code",
   "execution_count": 9,
   "id": "b95a8959",
   "metadata": {},
   "outputs": [
    {
     "data": {
      "text/plain": [
       "array([[0.40295991, 0.29852004, 0.29852004],\n",
       "       [0.34226942, 0.32557675, 0.33215383],\n",
       "       [0.3444903 , 0.32120063, 0.33430907]])"
      ]
     },
     "execution_count": 9,
     "metadata": {},
     "output_type": "execute_result"
    }
   ],
   "source": [
    "np.exp(Z)/np.sum(np.exp(Z), axis=1).reshape(-1,1)"
   ]
  },
  {
   "cell_type": "code",
   "execution_count": 11,
   "id": "17818d85",
   "metadata": {},
   "outputs": [
    {
     "data": {
      "text/plain": [
       "array([[0.40295991, 0.29852004, 0.29852004],\n",
       "       [0.34226942, 0.32557675, 0.33215383],\n",
       "       [0.3444903 , 0.32120063, 0.33430907]])"
      ]
     },
     "execution_count": 11,
     "metadata": {},
     "output_type": "execute_result"
    }
   ],
   "source": [
    "#矩阵的作用在于一次性把结果都计算出来\n",
    "def prob(X, W):\n",
    "    Z = X.dot(W)\n",
    "    return np.exp(Z)/np.sum(np.exp(Z), axis=1).reshape(-1,1)\n",
    "\n",
    "prob(X,W)"
   ]
  },
  {
   "cell_type": "markdown",
   "id": "85235fa1",
   "metadata": {},
   "source": [
    "# 实践案例1——鸢尾花种类识别"
   ]
  },
  {
   "cell_type": "code",
   "execution_count": 42,
   "id": "a680842a",
   "metadata": {
    "scrolled": false
   },
   "outputs": [
    {
     "data": {
      "text/plain": [
       "array([0, 0, 0, 0, 0, 0, 0, 0, 0, 0, 0, 0, 0, 0, 0, 0, 0, 0, 0, 0, 0, 0,\n",
       "       0, 0, 0, 0, 0, 0, 0, 0, 0, 0, 0, 0, 0, 0, 0, 0, 0, 0, 0, 0, 0, 0,\n",
       "       0, 0, 0, 0, 0, 0, 1, 1, 1, 1, 1, 1, 1, 1, 1, 1, 1, 1, 1, 1, 1, 1,\n",
       "       1, 1, 1, 1, 1, 1, 1, 1, 1, 1, 1, 1, 1, 1, 1, 1, 1, 1, 1, 1, 1, 1,\n",
       "       1, 1, 1, 1, 1, 1, 1, 1, 1, 1, 1, 1, 2, 2, 2, 2, 2, 2, 2, 2, 2, 2,\n",
       "       2, 2, 2, 2, 2, 2, 2, 2, 2, 2, 2, 2, 2, 2, 2, 2, 2, 2, 2, 2, 2, 2,\n",
       "       2, 2, 2, 2, 2, 2, 2, 2, 2, 2, 2, 2, 2, 2, 2, 2, 2, 2])"
      ]
     },
     "execution_count": 42,
     "metadata": {},
     "output_type": "execute_result"
    }
   ],
   "source": [
    "# 准备数据\n",
    "from sklearn.datasets import load_iris\n",
    "X,y = load_iris(return_X_y=True)\n",
    "y"
   ]
  },
  {
   "cell_type": "code",
   "execution_count": 41,
   "id": "3d3e6a44",
   "metadata": {},
   "outputs": [
    {
     "data": {
      "text/plain": [
       "array([[5.1, 3.5, 1.4, 0.2],\n",
       "       [4.9, 3. , 1.4, 0.2],\n",
       "       [4.7, 3.2, 1.3, 0.2],\n",
       "       [4.6, 3.1, 1.5, 0.2],\n",
       "       [5. , 3.6, 1.4, 0.2],\n",
       "       [5.4, 3.9, 1.7, 0.4],\n",
       "       [4.6, 3.4, 1.4, 0.3],\n",
       "       [5. , 3.4, 1.5, 0.2],\n",
       "       [4.4, 2.9, 1.4, 0.2],\n",
       "       [4.9, 3.1, 1.5, 0.1],\n",
       "       [5.4, 3.7, 1.5, 0.2],\n",
       "       [4.8, 3.4, 1.6, 0.2],\n",
       "       [4.8, 3. , 1.4, 0.1],\n",
       "       [4.3, 3. , 1.1, 0.1],\n",
       "       [5.8, 4. , 1.2, 0.2],\n",
       "       [5.7, 4.4, 1.5, 0.4],\n",
       "       [5.4, 3.9, 1.3, 0.4],\n",
       "       [5.1, 3.5, 1.4, 0.3],\n",
       "       [5.7, 3.8, 1.7, 0.3],\n",
       "       [5.1, 3.8, 1.5, 0.3],\n",
       "       [5.4, 3.4, 1.7, 0.2],\n",
       "       [5.1, 3.7, 1.5, 0.4],\n",
       "       [4.6, 3.6, 1. , 0.2],\n",
       "       [5.1, 3.3, 1.7, 0.5],\n",
       "       [4.8, 3.4, 1.9, 0.2],\n",
       "       [5. , 3. , 1.6, 0.2],\n",
       "       [5. , 3.4, 1.6, 0.4],\n",
       "       [5.2, 3.5, 1.5, 0.2],\n",
       "       [5.2, 3.4, 1.4, 0.2],\n",
       "       [4.7, 3.2, 1.6, 0.2],\n",
       "       [4.8, 3.1, 1.6, 0.2],\n",
       "       [5.4, 3.4, 1.5, 0.4],\n",
       "       [5.2, 4.1, 1.5, 0.1],\n",
       "       [5.5, 4.2, 1.4, 0.2],\n",
       "       [4.9, 3.1, 1.5, 0.2],\n",
       "       [5. , 3.2, 1.2, 0.2],\n",
       "       [5.5, 3.5, 1.3, 0.2],\n",
       "       [4.9, 3.6, 1.4, 0.1],\n",
       "       [4.4, 3. , 1.3, 0.2],\n",
       "       [5.1, 3.4, 1.5, 0.2],\n",
       "       [5. , 3.5, 1.3, 0.3],\n",
       "       [4.5, 2.3, 1.3, 0.3],\n",
       "       [4.4, 3.2, 1.3, 0.2],\n",
       "       [5. , 3.5, 1.6, 0.6],\n",
       "       [5.1, 3.8, 1.9, 0.4],\n",
       "       [4.8, 3. , 1.4, 0.3],\n",
       "       [5.1, 3.8, 1.6, 0.2],\n",
       "       [4.6, 3.2, 1.4, 0.2],\n",
       "       [5.3, 3.7, 1.5, 0.2],\n",
       "       [5. , 3.3, 1.4, 0.2],\n",
       "       [7. , 3.2, 4.7, 1.4],\n",
       "       [6.4, 3.2, 4.5, 1.5],\n",
       "       [6.9, 3.1, 4.9, 1.5],\n",
       "       [5.5, 2.3, 4. , 1.3],\n",
       "       [6.5, 2.8, 4.6, 1.5],\n",
       "       [5.7, 2.8, 4.5, 1.3],\n",
       "       [6.3, 3.3, 4.7, 1.6],\n",
       "       [4.9, 2.4, 3.3, 1. ],\n",
       "       [6.6, 2.9, 4.6, 1.3],\n",
       "       [5.2, 2.7, 3.9, 1.4],\n",
       "       [5. , 2. , 3.5, 1. ],\n",
       "       [5.9, 3. , 4.2, 1.5],\n",
       "       [6. , 2.2, 4. , 1. ],\n",
       "       [6.1, 2.9, 4.7, 1.4],\n",
       "       [5.6, 2.9, 3.6, 1.3],\n",
       "       [6.7, 3.1, 4.4, 1.4],\n",
       "       [5.6, 3. , 4.5, 1.5],\n",
       "       [5.8, 2.7, 4.1, 1. ],\n",
       "       [6.2, 2.2, 4.5, 1.5],\n",
       "       [5.6, 2.5, 3.9, 1.1],\n",
       "       [5.9, 3.2, 4.8, 1.8],\n",
       "       [6.1, 2.8, 4. , 1.3],\n",
       "       [6.3, 2.5, 4.9, 1.5],\n",
       "       [6.1, 2.8, 4.7, 1.2],\n",
       "       [6.4, 2.9, 4.3, 1.3],\n",
       "       [6.6, 3. , 4.4, 1.4],\n",
       "       [6.8, 2.8, 4.8, 1.4],\n",
       "       [6.7, 3. , 5. , 1.7],\n",
       "       [6. , 2.9, 4.5, 1.5],\n",
       "       [5.7, 2.6, 3.5, 1. ],\n",
       "       [5.5, 2.4, 3.8, 1.1],\n",
       "       [5.5, 2.4, 3.7, 1. ],\n",
       "       [5.8, 2.7, 3.9, 1.2],\n",
       "       [6. , 2.7, 5.1, 1.6],\n",
       "       [5.4, 3. , 4.5, 1.5],\n",
       "       [6. , 3.4, 4.5, 1.6],\n",
       "       [6.7, 3.1, 4.7, 1.5],\n",
       "       [6.3, 2.3, 4.4, 1.3],\n",
       "       [5.6, 3. , 4.1, 1.3],\n",
       "       [5.5, 2.5, 4. , 1.3],\n",
       "       [5.5, 2.6, 4.4, 1.2],\n",
       "       [6.1, 3. , 4.6, 1.4],\n",
       "       [5.8, 2.6, 4. , 1.2],\n",
       "       [5. , 2.3, 3.3, 1. ],\n",
       "       [5.6, 2.7, 4.2, 1.3],\n",
       "       [5.7, 3. , 4.2, 1.2],\n",
       "       [5.7, 2.9, 4.2, 1.3],\n",
       "       [6.2, 2.9, 4.3, 1.3],\n",
       "       [5.1, 2.5, 3. , 1.1],\n",
       "       [5.7, 2.8, 4.1, 1.3],\n",
       "       [6.3, 3.3, 6. , 2.5],\n",
       "       [5.8, 2.7, 5.1, 1.9],\n",
       "       [7.1, 3. , 5.9, 2.1],\n",
       "       [6.3, 2.9, 5.6, 1.8],\n",
       "       [6.5, 3. , 5.8, 2.2],\n",
       "       [7.6, 3. , 6.6, 2.1],\n",
       "       [4.9, 2.5, 4.5, 1.7],\n",
       "       [7.3, 2.9, 6.3, 1.8],\n",
       "       [6.7, 2.5, 5.8, 1.8],\n",
       "       [7.2, 3.6, 6.1, 2.5],\n",
       "       [6.5, 3.2, 5.1, 2. ],\n",
       "       [6.4, 2.7, 5.3, 1.9],\n",
       "       [6.8, 3. , 5.5, 2.1],\n",
       "       [5.7, 2.5, 5. , 2. ],\n",
       "       [5.8, 2.8, 5.1, 2.4],\n",
       "       [6.4, 3.2, 5.3, 2.3],\n",
       "       [6.5, 3. , 5.5, 1.8],\n",
       "       [7.7, 3.8, 6.7, 2.2],\n",
       "       [7.7, 2.6, 6.9, 2.3],\n",
       "       [6. , 2.2, 5. , 1.5],\n",
       "       [6.9, 3.2, 5.7, 2.3],\n",
       "       [5.6, 2.8, 4.9, 2. ],\n",
       "       [7.7, 2.8, 6.7, 2. ],\n",
       "       [6.3, 2.7, 4.9, 1.8],\n",
       "       [6.7, 3.3, 5.7, 2.1],\n",
       "       [7.2, 3.2, 6. , 1.8],\n",
       "       [6.2, 2.8, 4.8, 1.8],\n",
       "       [6.1, 3. , 4.9, 1.8],\n",
       "       [6.4, 2.8, 5.6, 2.1],\n",
       "       [7.2, 3. , 5.8, 1.6],\n",
       "       [7.4, 2.8, 6.1, 1.9],\n",
       "       [7.9, 3.8, 6.4, 2. ],\n",
       "       [6.4, 2.8, 5.6, 2.2],\n",
       "       [6.3, 2.8, 5.1, 1.5],\n",
       "       [6.1, 2.6, 5.6, 1.4],\n",
       "       [7.7, 3. , 6.1, 2.3],\n",
       "       [6.3, 3.4, 5.6, 2.4],\n",
       "       [6.4, 3.1, 5.5, 1.8],\n",
       "       [6. , 3. , 4.8, 1.8],\n",
       "       [6.9, 3.1, 5.4, 2.1],\n",
       "       [6.7, 3.1, 5.6, 2.4],\n",
       "       [6.9, 3.1, 5.1, 2.3],\n",
       "       [5.8, 2.7, 5.1, 1.9],\n",
       "       [6.8, 3.2, 5.9, 2.3],\n",
       "       [6.7, 3.3, 5.7, 2.5],\n",
       "       [6.7, 3. , 5.2, 2.3],\n",
       "       [6.3, 2.5, 5. , 1.9],\n",
       "       [6.5, 3. , 5.2, 2. ],\n",
       "       [6.2, 3.4, 5.4, 2.3],\n",
       "       [5.9, 3. , 5.1, 1.8]])"
      ]
     },
     "execution_count": 41,
     "metadata": {},
     "output_type": "execute_result"
    }
   ],
   "source": [
    "X"
   ]
  },
  {
   "cell_type": "code",
   "execution_count": 32,
   "id": "c8a84ac0",
   "metadata": {},
   "outputs": [
    {
     "name": "stdout",
     "output_type": "stream",
     "text": [
      "训练集的混淆矩阵：\n",
      "  [[34  0  0]\n",
      " [ 0 30  2]\n",
      " [ 0  0 39]]\n",
      "测试集的混淆矩阵: \n",
      " [[16  0  0]\n",
      " [ 0 17  1]\n",
      " [ 0  0 11]]\n"
     ]
    }
   ],
   "source": [
    "# 拆分数据\n",
    "from sklearn.model_selection import train_test_split\n",
    "X_train, X_test, y_train, y_test = train_test_split(X,y, test_size=0.3, random_state=0)\n",
    "\n",
    "# 训练模型\n",
    "from sklearn.linear_model import LogisticRegression\n",
    "lr = LogisticRegression(random_state=0)\n",
    "lr.fit(X_train, y_train)\n",
    "\n",
    "# 评估模型\n",
    "y_train_pred = lr.predict(X_train)\n",
    "y_test_pred = lr.predict(X_test)\n",
    "\n",
    "from sklearn.metrics import accuracy_score,confusion_matrix\n",
    "print(\"训练集的混淆矩阵：\\n \", confusion_matrix(y_train, y_train_pred))\n",
    "print(\"测试集的混淆矩阵: \\n\", confusion_matrix(y_test, y_test_pred))"
   ]
  },
  {
   "cell_type": "code",
   "execution_count": 33,
   "id": "efbdde0d",
   "metadata": {},
   "outputs": [
    {
     "name": "stdout",
     "output_type": "stream",
     "text": [
      "accuracy score: 0.978\n"
     ]
    }
   ],
   "source": [
    "accu= accuracy_score(y_test_pred, y_test)\n",
    "print(f\"accuracy score: {accu:.3f}\", )"
   ]
  },
  {
   "cell_type": "code",
   "execution_count": 34,
   "id": "65c9ce44",
   "metadata": {},
   "outputs": [
    {
     "data": {
      "text/plain": [
       "array([5.1, 3.5, 1.4, 0.2])"
      ]
     },
     "execution_count": 34,
     "metadata": {},
     "output_type": "execute_result"
    }
   ],
   "source": [
    "X[100]"
   ]
  },
  {
   "cell_type": "code",
   "execution_count": 37,
   "id": "64e96dcd",
   "metadata": {},
   "outputs": [
    {
     "data": {
      "text/plain": [
       "array([2])"
      ]
     },
     "execution_count": 37,
     "metadata": {},
     "output_type": "execute_result"
    }
   ],
   "source": [
    "lr.predict([X[100]])"
   ]
  },
  {
   "cell_type": "code",
   "execution_count": 38,
   "id": "91902bb4",
   "metadata": {},
   "outputs": [
    {
     "data": {
      "text/plain": [
       "array([[2.47776314e-06, 6.75627217e-03, 9.93241250e-01]])"
      ]
     },
     "execution_count": 38,
     "metadata": {},
     "output_type": "execute_result"
    }
   ],
   "source": [
    "lr.predict_proba([X[100]])"
   ]
  },
  {
   "cell_type": "markdown",
   "id": "6ab428d9",
   "metadata": {},
   "source": [
    "# 实践案例2-手写字体识别"
   ]
  },
  {
   "cell_type": "code",
   "execution_count": 4,
   "id": "53fc69b2",
   "metadata": {},
   "outputs": [
    {
     "data": {
      "text/plain": [
       "array([0, 1, 2, ..., 8, 9, 8])"
      ]
     },
     "execution_count": 4,
     "metadata": {},
     "output_type": "execute_result"
    }
   ],
   "source": [
    "# 导入数据\n",
    "from sklearn.datasets import load_digits\n",
    "X,y = load_digits(return_X_y=True)\n",
    "y"
   ]
  },
  {
   "cell_type": "code",
   "execution_count": 17,
   "id": "243dcb5b",
   "metadata": {},
   "outputs": [
    {
     "data": {
      "text/plain": [
       "array([[ 0.,  0.,  5., ...,  0.,  0.,  0.],\n",
       "       [ 0.,  0.,  0., ..., 10.,  0.,  0.],\n",
       "       [ 0.,  0.,  0., ..., 16.,  9.,  0.],\n",
       "       ...,\n",
       "       [ 0.,  0.,  1., ...,  6.,  0.,  0.],\n",
       "       [ 0.,  0.,  2., ..., 12.,  0.,  0.],\n",
       "       [ 0.,  0., 10., ..., 12.,  1.,  0.]])"
      ]
     },
     "execution_count": 17,
     "metadata": {},
     "output_type": "execute_result"
    }
   ],
   "source": [
    "X"
   ]
  },
  {
   "cell_type": "code",
   "execution_count": 18,
   "id": "cee5133d",
   "metadata": {},
   "outputs": [
    {
     "data": {
      "text/plain": [
       "array([ 0.,  0.,  0.,  2., 13.,  0.,  0.,  0.,  0.,  0.,  0.,  8., 15.,\n",
       "        0.,  0.,  0.,  0.,  0.,  5., 16.,  5.,  2.,  0.,  0.,  0.,  0.,\n",
       "       15., 12.,  1., 16.,  4.,  0.,  0.,  4., 16.,  2.,  9., 16.,  8.,\n",
       "        0.,  0.,  0., 10., 14., 16., 16.,  4.,  0.,  0.,  0.,  0.,  0.,\n",
       "       13.,  8.,  0.,  0.,  0.,  0.,  0.,  0., 13.,  6.,  0.,  0.])"
      ]
     },
     "execution_count": 18,
     "metadata": {},
     "output_type": "execute_result"
    }
   ],
   "source": [
    "X[100]"
   ]
  },
  {
   "cell_type": "code",
   "execution_count": 19,
   "id": "18daede8",
   "metadata": {},
   "outputs": [
    {
     "data": {
      "text/plain": [
       "(1797, 64)"
      ]
     },
     "execution_count": 19,
     "metadata": {},
     "output_type": "execute_result"
    }
   ],
   "source": [
    "X.shape"
   ]
  },
  {
   "cell_type": "code",
   "execution_count": 20,
   "id": "b175d9d0",
   "metadata": {},
   "outputs": [
    {
     "data": {
      "text/plain": [
       "array([[ 0.,  0.,  0.,  2., 13.,  0.,  0.,  0.],\n",
       "       [ 0.,  0.,  0.,  8., 15.,  0.,  0.,  0.],\n",
       "       [ 0.,  0.,  5., 16.,  5.,  2.,  0.,  0.],\n",
       "       [ 0.,  0., 15., 12.,  1., 16.,  4.,  0.],\n",
       "       [ 0.,  4., 16.,  2.,  9., 16.,  8.,  0.],\n",
       "       [ 0.,  0., 10., 14., 16., 16.,  4.,  0.],\n",
       "       [ 0.,  0.,  0.,  0., 13.,  8.,  0.,  0.],\n",
       "       [ 0.,  0.,  0.,  0., 13.,  6.,  0.,  0.]])"
      ]
     },
     "execution_count": 20,
     "metadata": {},
     "output_type": "execute_result"
    }
   ],
   "source": [
    "X[100].reshape(8,8)"
   ]
  },
  {
   "cell_type": "code",
   "execution_count": 7,
   "id": "75269213",
   "metadata": {},
   "outputs": [
    {
     "data": {
      "image/png": "[encoded data removed]",
      "text/plain": [
       "<Figure size 432x288 with 1 Axes>"
      ]
     },
     "metadata": {
      "needs_background": "light"
     },
     "output_type": "display_data"
    }
   ],
   "source": [
    "#显示数据信息\n",
    "import matplotlib.pyplot as plt\n",
    "img = X[100].reshape(8,8)\n",
    "plt.imshow(img, interpolation=\"nearest\")\n",
    "plt.show()"
   ]
  },
  {
   "cell_type": "code",
   "execution_count": 9,
   "id": "7055e2da",
   "metadata": {},
   "outputs": [
    {
     "data": {
      "text/plain": [
       "4"
      ]
     },
     "execution_count": 9,
     "metadata": {},
     "output_type": "execute_result"
    }
   ],
   "source": [
    "y[100]"
   ]
  },
  {
   "cell_type": "code",
   "execution_count": 14,
   "id": "a3663b79",
   "metadata": {},
   "outputs": [
    {
     "name": "stdout",
     "output_type": "stream",
     "text": [
      "confusion matrix for training set: \n",
      " [[133   0   0   0   0   0   0   0   0   0]\n",
      " [  0 130   0   0   0   0   0   0   0   0]\n",
      " [  0   0 124   0   0   0   0   0   0   0]\n",
      " [  0   0   0 129   0   0   0   0   0   0]\n",
      " [  0   0   0   0 133   0   0   0   0   0]\n",
      " [  0   0   0   0   0 125   0   0   0   0]\n",
      " [  0   0   0   0   0   0 121   0   0   0]\n",
      " [  0   0   0   0   0   0   0 126   0   0]\n",
      " [  0   0   0   0   0   0   0   0 113   0]\n",
      " [  0   0   0   0   0   0   0   0   0 123]]\n",
      "confusion matrix for test set: \n",
      " [[45  0  0  0  0  0  0  0  0  0]\n",
      " [ 0 49  0  0  0  0  0  0  2  1]\n",
      " [ 0  2 49  2  0  0  0  0  0  0]\n",
      " [ 0  0  0 52  0  0  0  0  1  1]\n",
      " [ 0  0  0  0 47  0  0  1  0  0]\n",
      " [ 0  0  0  0  0 55  0  0  0  2]\n",
      " [ 0  1  0  0  0  0 59  0  0  0]\n",
      " [ 0  0  0  1  1  0  0 51  0  0]\n",
      " [ 0  3  1  0  0  0  0  0 53  4]\n",
      " [ 0  0  0  0  0  1  0  0  1 55]]\n",
      "accuracy for training set: 1.000\n",
      "accuracy for test set: 0.9537037037037037\n"
     ]
    },
    {
     "name": "stderr",
     "output_type": "stream",
     "text": [
      "C:\\Users\\Danny\\AppData\\Roaming\\Python\\Python38\\site-packages\\sklearn\\linear_model\\_logistic.py:444: ConvergenceWarning: lbfgs failed to converge (status=1):\n",
      "STOP: TOTAL NO. of ITERATIONS REACHED LIMIT.\n",
      "\n",
      "Increase the number of iterations (max_iter) or scale the data as shown in:\n",
      "    https://scikit-learn.org/stable/modules/preprocessing.html\n",
      "Please also refer to the documentation for alternative solver options:\n",
      "    https://scikit-learn.org/stable/modules/linear_model.html#logistic-regression\n",
      "  n_iter_i = _check_optimize_result(\n"
     ]
    }
   ],
   "source": [
    "# 拆分数据\n",
    "from sklearn.model_selection import train_test_split\n",
    "X,y = load_digits(return_X_y=True)\n",
    "X_train, X_test, y_train, y_test = train_test_split(X, y, test_size=0.3, random_state=0)\n",
    "\n",
    "# 训练模型\n",
    "from sklearn.linear_model import LogisticRegression\n",
    "lr = LogisticRegression()\n",
    "lr.fit(X_train, y_train)\n",
    "\n",
    "#评估模型\n",
    "## 结果预测\n",
    "y_train_pred = lr.predict(X_train)\n",
    "y_test_pred = lr.predict(X_test)\n",
    "\n",
    "##  混淆矩阵\n",
    "from sklearn.metrics import confusion_matrix, accuracy_score\n",
    "print(\"confusion matrix for training set: \\n\", confusion_matrix(y_train, y_train_pred))\n",
    "print(\"confusion matrix for test set: \\n\", confusion_matrix(y_test, y_test_pred))\n",
    "\n",
    "##预测精度\n",
    "print(f\"accuracy for training set: {accuracy_score(y_train, y_train_pred):.3f}\")\n",
    "print(f\"accuracy for test set: {accuracy_score(y_test, y_test_pred)}\")\n"
   ]
  },
  {
   "cell_type": "code",
   "execution_count": 15,
   "id": "47526bec",
   "metadata": {},
   "outputs": [],
   "source": [
    "#针对训练集，准确率100%； 针对测试集，准确率高达95.4%"
   ]
  },
  {
   "cell_type": "code",
   "execution_count": 98,
   "id": "f49cbb11",
   "metadata": {},
   "outputs": [],
   "source": [
    "# 撰写自己的多分类回归程序\n",
    "from sklearn.datasets import load_iris\n",
    "X,y0 = load_iris(return_X_y=True)\n",
    "n_features = X.shape[1]\n",
    "import pandas as pd\n",
    "y=pd.get_dummies(y0).values\n",
    "y_categories = y.shape[1]"
   ]
  },
  {
   "cell_type": "code",
   "execution_count": 99,
   "id": "df1b97f9",
   "metadata": {},
   "outputs": [],
   "source": [
    "X_train, X_test, y_train, y_test = train_test_split(X, y, test_size=0.3, random_state=0)"
   ]
  },
  {
   "cell_type": "code",
   "execution_count": 121,
   "id": "54696bcc",
   "metadata": {},
   "outputs": [
    {
     "data": {
      "text/plain": [
       "array([[0.33333333, 0.33333333, 0.33333333],\n",
       "       [0.33333333, 0.33333333, 0.33333333],\n",
       "       [0.33333333, 0.33333333, 0.33333333],\n",
       "       [0.33333333, 0.33333333, 0.33333333]])"
      ]
     },
     "execution_count": 121,
     "metadata": {},
     "output_type": "execute_result"
    }
   ],
   "source": [
    "# 设置初始参数\n",
    "import numpy as np\n",
    "beta0 = np.ones((n_features, y_categories))/y_categories\n",
    "beta0"
   ]
  },
  {
   "cell_type": "code",
   "execution_count": 117,
   "id": "cf0f028d",
   "metadata": {},
   "outputs": [
    {
     "data": {
      "text/plain": [
       "array([[ 4.1744923 , -1.97857948, -2.19591282],\n",
       "       [ 1.91455165, -0.92327583, -0.99127583],\n",
       "       [ 3.27061354, -1.41997344, -1.8506401 ],\n",
       "       [ 1.11732443, -0.44199555, -0.67532888]])"
      ]
     },
     "execution_count": 117,
     "metadata": {},
     "output_type": "execute_result"
    }
   ],
   "source": [
    "def prob(beta):\n",
    "    n_obs =X.shape[0]\n",
    "    p = np.exp(X.dot(beta))/(np.sum(np.exp(X.dot(beta)), axis=1)).reshape(n_obs,1)\n",
    "    return p\n",
    "\n",
    "\n",
    "def loss(beta):\n",
    "    n_obs =X.shape[0]\n",
    "    return -np.sum(y.T.dot(np.log(prob(beta))))/n_obs\n",
    "\n",
    "def grad(beta):\n",
    "    p=prob(beta)\n",
    "    return X.T.dot(p-y)/n_obs\n",
    "\n",
    "grad(beta0)    "
   ]
  },
  {
   "cell_type": "code",
   "execution_count": 118,
   "id": "0791676f",
   "metadata": {},
   "outputs": [
    {
     "name": "stdout",
     "output_type": "stream",
     "text": [
      "loss = 27.716, beta=[[1. 0. 0.]\n",
      " [1. 0. 0.]\n",
      " [1. 0. 0.]\n",
      " [1. 0. 0.]], grad= [[ 4.1744923  -1.97857948 -2.19591282]\n",
      " [ 1.91455165 -0.92327583 -0.99127583]\n",
      " [ 3.27061354 -1.41997344 -1.8506401 ]\n",
      " [ 1.11732443 -0.44199555 -0.67532888]]\n",
      "loss = 26.400, beta=[[0.95825508 0.01978579 0.02195913]\n",
      " [0.98085448 0.00923276 0.00991276]\n",
      " [0.96729386 0.01419973 0.0185064 ]\n",
      " [0.98882676 0.00441996 0.00675329]], grad= [[ 4.17438774 -1.97852857 -2.19585916]\n",
      " [ 1.91448282 -0.92324231 -0.99124051]\n",
      " [ 3.27058104 -1.41995762 -1.85062341]\n",
      " [ 1.11731881 -0.44199282 -0.675326  ]]\n",
      "loss = 25.084, beta=[[0.9165112  0.03957108 0.04391772]\n",
      " [0.96170966 0.01846518 0.01982516]\n",
      " [0.93458805 0.02839931 0.03701264]\n",
      " [0.97765357 0.00883988 0.01350655]], grad= [[ 4.1742195  -1.97844751 -2.19577199]\n",
      " [ 1.91437223 -0.92318901 -0.99118322]\n",
      " [ 3.27052818 -1.41993218 -1.85059599]\n",
      " [ 1.11730953 -0.44198836 -0.67532117]]\n",
      "loss = 23.768, beta=[[0.874769   0.05935556 0.06587544]\n",
      " [0.94256593 0.02769707 0.029737  ]\n",
      " [0.90188277 0.04259863 0.0555186 ]\n",
      " [0.96648047 0.01325977 0.02025976]], grad= [[ 4.1739481  -1.97831814 -2.19562996]\n",
      " [ 1.91419418 -0.92310409 -0.99109009]\n",
      " [ 3.27044182 -1.41989111 -1.85055072]\n",
      " [ 1.11729409 -0.44198103 -0.67531305]]\n",
      "loss = 22.452, beta=[[0.83302952 0.07913874 0.08783174]\n",
      " [0.92342399 0.03692811 0.0396479 ]\n",
      " [0.86917835 0.05679754 0.0740241 ]\n",
      " [0.95530753 0.01767958 0.02701289]], grad= [[ 4.17350899 -1.97811114 -2.19539785]\n",
      " [ 1.91390685 -0.92296854 -0.9909383 ]\n",
      " [ 3.27030005 -1.41982449 -1.85047556]\n",
      " [ 1.1172682  -0.44196892 -0.67529928]]\n",
      "loss = 21.136, beta=[[0.79129443 0.09891985 0.10978572]\n",
      " [0.90428492 0.0461578  0.04955728]\n",
      " [0.83647535 0.07099579 0.09252886]\n",
      " [0.94413485 0.02209927 0.03376588]], grad= [[ 4.17279627 -1.97777902 -2.19501726]\n",
      " [ 1.91344197 -0.92275169 -0.99069028]\n",
      " [ 3.27006594 -1.41971589 -1.85035005]\n",
      " [ 1.11722444 -0.44194874 -0.6752757 ]]\n",
      "loss = 19.821, beta=[[0.74956647 0.11869764 0.13173589]\n",
      " [0.8851505  0.05538531 0.05946418]\n",
      " [0.80377469 0.08519295 0.11103236]\n",
      " [0.9329626  0.02651875 0.04051864]], grad= [[ 4.17163543 -1.97724458 -2.19439084]\n",
      " [ 1.91268782 -0.92240397 -0.99028385]\n",
      " [ 3.26967688 -1.4195379  -1.85013897]\n",
      " [ 1.11714978 -0.44191485 -0.67523493]]\n",
      "loss = 18.507, beta=[[0.70785012 0.13847008 0.1536798 ]\n",
      " [0.86602362 0.06460935 0.06936702]\n",
      " [0.77107793 0.09938833 0.12953375]\n",
      " [0.92179111 0.0309379  0.04727099]], grad= [[ 4.16973747 -1.97638187 -2.1933556 ]\n",
      " [ 1.91146093 -0.92184514 -0.98961579]\n",
      " [ 3.26902563 -1.41924439 -1.84978124]\n",
      " [ 1.11702112 -0.44185744 -0.67516367]]\n",
      "loss = 17.193, beta=[[0.66615274 0.1582339  0.17561335]\n",
      " [0.84690902 0.07382781 0.07926318]\n",
      " [0.73838767 0.11358077 0.14803156]\n",
      " [0.9106209  0.03535648 0.05402263]], grad= [[ 4.16662169 -1.97498468 -2.19163701]\n",
      " [ 1.90945914 -0.92094496 -0.98851418]\n",
      " [ 3.26792682 -1.41875715 -1.84916967]\n",
      " [ 1.11679696 -0.44175928 -0.67503767]]\n",
      "loss = 15.882, beta=[[0.62448653 0.17798375 0.19752972]\n",
      " [0.82781442 0.08303726 0.08914832]\n",
      " [0.7057084  0.12776834 0.16652326]\n",
      " [0.89945293 0.03977407 0.060773  ]], grad= [[ 4.16148493 -1.97271456 -2.18877037]\n",
      " [ 1.90618372 -0.91949197 -0.98669175]\n",
      " [ 3.26605679 -1.41794257 -1.84811422]\n",
      " [ 1.11640188 -0.44158978 -0.6748121 ]]\n",
      "loss = 14.575, beta=[[0.58287168 0.1977109  0.21941743]\n",
      " [0.80875259 0.09223218 0.09901524]\n",
      " [0.67304783 0.14194777 0.1850044 ]\n",
      " [0.88828891 0.04418997 0.06752112]], grad= [[ 4.15298074 -1.96901519 -2.18396556]\n",
      " [ 1.90081085 -0.91714308 -0.98366777]\n",
      " [ 3.26284519 -1.41657077 -1.84627441]\n",
      " [ 1.11569732 -0.44129419 -0.67440313]]\n",
      "loss = 13.273, beta=[[0.54134187 0.21740105 0.24125708]\n",
      " [0.78974448 0.10140361 0.10885192]\n",
      " [0.64041938 0.15611348 0.20346714]\n",
      " [0.87713193 0.04860291 0.07426516]], grad= [[ 4.13884901 -1.96297351 -2.17587551]\n",
      " [ 1.8919823  -0.9133441  -0.9786382 ]\n",
      " [ 3.25727906 -1.41424431 -1.84303474]\n",
      " [ 1.11442631 -0.44077379 -0.67365252]]\n",
      "loss = 11.980, beta=[[0.49995338 0.23703078 0.26301584]\n",
      " [0.77082466 0.11053705 0.1186383 ]\n",
      " [0.60784659 0.17025592 0.22189749]\n",
      " [0.86598767 0.05301065 0.08100168]], grad= [[ 4.115306   -1.95310002 -2.16220598]\n",
      " [ 1.87747363 -0.90720855 -0.97026508]\n",
      " [ 3.24755136 -1.41027504 -1.83727632]\n",
      " [ 1.11210983 -0.4398501  -0.67225973]]\n",
      "loss = 10.704, beta=[[0.45880032 0.25656178 0.2846379 ]\n",
      " [0.75204992 0.11960913 0.12834095]\n",
      " [0.57537108 0.18435867 0.24027025]\n",
      " [0.85486657 0.05740915 0.08772428]], grad= [[ 4.07607874 -1.93699911 -2.13907963]\n",
      " [ 1.85369537 -0.89734534 -0.95635004]\n",
      " [ 3.2304447  -1.40347789 -1.8269668 ]\n",
      " [ 1.10785609 -0.43820158 -0.66965451]]\n",
      "loss = 9.454, beta=[[0.41803953 0.27593177 0.3060287 ]\n",
      " [0.73351297 0.12858259 0.13790445]\n",
      " [0.54306663 0.19839345 0.25853992]\n",
      " [0.84378801 0.06179116 0.09442082]], grad= [[ 4.01099745 -1.91092456 -2.10007289]\n",
      " [ 1.8150203  -0.8816463  -0.933374  ]\n",
      " [ 3.20030912 -1.39184758 -1.80846154]\n",
      " [ 1.10002732 -0.43525814 -0.66476917]]\n",
      "loss = 8.248, beta=[[0.37792956 0.29504102 0.32702942]\n",
      " [0.71536276 0.13739905 0.14723819]\n",
      " [0.51106354 0.21231192 0.27662454]\n",
      " [0.83278774 0.06614375 0.10106852]], grad= [[ 3.90430431 -1.86931785 -2.03498646]\n",
      " [ 1.75308851 -0.85710888 -0.89597963]\n",
      " [ 3.14757231 -1.37212298 -1.77544933]\n",
      " [ 1.08572166 -0.43004688 -0.65567478]]\n",
      "loss = 7.112, beta=[[0.33888651 0.3137342  0.34737929]\n",
      " [0.69783188 0.14597014 0.15619799]\n",
      " [0.47958782 0.22603315 0.29437903]\n",
      " [0.82193052 0.07044421 0.10762526]], grad= [[ 3.73368044 -1.80470798 -1.92897246]\n",
      " [ 1.65668032 -0.81991512 -0.8367652 ]\n",
      " [ 3.05723897 -1.3394178  -1.71782117]\n",
      " [ 1.06018203 -0.42103411 -0.63914791]]\n",
      "loss = 6.085, beta=[[0.30154971 0.33178128 0.36666901]\n",
      " [0.68126507 0.15416929 0.16456564]\n",
      " [0.44901543 0.23942733 0.31155724]\n",
      " [0.8113287  0.07465456 0.11401674]], grad= [[ 3.47297977 -1.70889171 -1.76408806]\n",
      " [ 1.5136164  -0.76621448 -0.74740192]\n",
      " [ 2.90943851 -1.2875543  -1.62188421]\n",
      " [ 1.01677933 -0.40616457 -0.61061476]]\n",
      "loss = 5.210, beta=[[0.26681991 0.34887019 0.38430989]\n",
      " [0.66612891 0.16183143 0.17203966]\n",
      " [0.41992104 0.25230287 0.32777608]\n",
      " [0.80116091 0.0787162  0.12012289]], grad= [[ 3.1039873  -1.57670281 -1.52728448]\n",
      " [ 1.3168844  -0.6941112  -0.6227732 ]\n",
      " [ 2.6866426  -1.21132972 -1.47531289]\n",
      " [ 0.94916289 -0.38353043 -0.56563245]]\n",
      "loss = 4.528, beta=[[0.23578004 0.36463722 0.39958274]\n",
      " [0.65296007 0.16877255 0.17826739]\n",
      " [0.39305462 0.26441617 0.34252921]\n",
      " [0.79166928 0.08255151 0.12577921]], grad= [[ 2.63829089 -1.41199026 -1.22630063]\n",
      " [ 1.07471978 -0.60640242 -0.46831736]\n",
      " [ 2.39035986 -1.11112208 -1.27923778]\n",
      " [ 0.85678866 -0.35290051 -0.50388814]]\n",
      "loss = 4.048, beta=[[0.20939713 0.37875713 0.41184575]\n",
      " [0.64221287 0.17483657 0.18295056]\n",
      " [0.36915102 0.27552739 0.35532159]\n",
      " [0.78310139 0.08608051 0.1308181 ]], grad= [[ 2.13014963 -1.23009962 -0.90005001]\n",
      " [ 0.81530212 -0.51127669 -0.30402543]\n",
      " [ 2.05431049 -0.9959546  -1.05835589]\n",
      " [ 0.74981073 -0.3169097  -0.43290103]]\n",
      "loss = 3.743, beta=[[0.18809563 0.39105812 0.42084625]\n",
      " [0.63405985 0.17994934 0.18599082]\n",
      " [0.34860791 0.28548694 0.36590515]\n",
      " [0.77560329 0.08924961 0.13514711]], grad= [[ 1.65181334 -1.05047963 -0.60133371]\n",
      " [ 0.57387749 -0.41839898 -0.15547851]\n",
      " [ 1.72970575 -0.87920238 -0.85050337]\n",
      " [ 0.6448726  -0.27984769 -0.36502491]]\n",
      "loss = 3.562, beta=[[0.1715775  0.40156292 0.42685958]\n",
      " [0.62832107 0.18413333 0.1875456 ]\n",
      " [0.33131085 0.29427896 0.37441018]\n",
      " [0.76915456 0.09204808 0.13879736]], grad= [[ 1.25039745 -0.88612084 -0.36427661]\n",
      " [ 0.37252541 -0.33395155 -0.03857385]\n",
      " [ 1.45287478 -0.77066897 -0.68220581]\n",
      " [ 0.55438135 -0.24503678 -0.30934457]]\n",
      "loss = 3.458, beta=[[0.15907353 0.41042413 0.43050235]\n",
      " [0.62459582 0.18747284 0.18793134]\n",
      " [0.31678211 0.30198565 0.38123224]\n",
      " [0.76361075 0.09449845 0.1418908 ]], grad= [[ 0.93533827 -0.7413608  -0.19397747]\n",
      " [ 0.21500887 -0.25985011  0.04484123]\n",
      " [ 1.23335544 -0.67415722 -0.55919821]\n",
      " [ 0.4820466  -0.21387696 -0.26816964]]\n",
      "loss = 3.400, beta=[[0.14972014 0.41783773 0.43244212]\n",
      " [0.62244573 0.19007134 0.18748293]\n",
      " [0.30444855 0.30872722 0.38682422]\n",
      " [0.75879028 0.09663722 0.1445725 ]], grad= [[ 0.69475888 -0.61588359 -0.07887529]\n",
      " [ 0.0949999  -0.19579277  0.10079287]\n",
      " [ 1.06446696 -0.58995167 -0.47451529]\n",
      " [ 0.42605542 -0.18657204 -0.23948338]]\n",
      "loss = 3.368, beta=[[0.14277255 0.42399657 0.43323088]\n",
      " [0.62149573 0.19202927 0.186475  ]\n",
      " [0.29380388 0.31462674 0.39156938]\n",
      " [0.75452973 0.09850294 0.14696733]], grad= [[ 0.5118462  -0.50803352 -0.00381268]\n",
      " [ 0.00397445 -0.14086833  0.13689388]\n",
      " [ 0.93518525 -0.51719282 -0.41799243]\n",
      " [ 0.38297787 -0.16290455 -0.22007332]]\n",
      "loss = 3.351, beta=[[0.13765409 0.42907691 0.433269  ]\n",
      " [0.62145599 0.19343795 0.18510606]\n",
      " [0.28445203 0.31979867 0.3957493 ]\n",
      " [0.75069995 0.10013199 0.14916806]], grad= [[ 0.37191195 -0.41601745  0.0441055 ]\n",
      " [-0.06544001 -0.09412252  0.15956253]\n",
      " [ 0.83554864 -0.45481577 -0.38073287]\n",
      " [ 0.34962362 -0.14256191 -0.2070617 ]]\n",
      "loss = 3.343, beta=[[0.13393497 0.43323708 0.43282795]\n",
      " [0.62211039 0.19437918 0.18351044]\n",
      " [0.27609654 0.32434683 0.39955663]\n",
      " [0.74720371 0.10155761 0.15123868]], grad= [[ 0.2638155  -0.33811578  0.07430028]\n",
      " [-0.11882143 -0.05464983  0.17347126]\n",
      " [ 0.75790104 -0.40175261 -0.35614843]\n",
      " [ 0.32350831 -0.12521624 -0.19829207]]\n",
      "loss = 3.340, beta=[[0.13129682 0.43661824 0.43208495]\n",
      " [0.6232986  0.19492568 0.18177572]\n",
      " [0.26851753 0.32836435 0.40311811]\n",
      " [0.74396863 0.10280977 0.1532216 ]], grad= [[ 0.17948404 -0.27267199  0.09318795]\n",
      " [-0.16021215 -0.02158413  0.18179628]\n",
      " [ 0.69666208 -0.35694892 -0.33971316]\n",
      " [ 0.30280758 -0.11053654 -0.19227104]]\n",
      "loss = 3.340, beta=[[0.12950198 0.43934496 0.43115307]\n",
      " [0.62490072 0.19514152 0.17995776]\n",
      " [0.26155091 0.33193384 0.40651525]\n",
      " [0.74094055 0.10391513 0.15514431]], grad= [[ 0.11311358 -0.21808966  0.10497608]\n",
      " [-0.19252195  0.00590429  0.18661766]\n",
      " [ 0.64781002 -0.31937166 -0.32843837]\n",
      " [ 0.28620042 -0.09819448 -0.18800595]]\n"
     ]
    }
   ],
   "source": [
    "beta0 = np.zeros((n_features, y_categories))\n",
    "beta0[:,0]=1.0\n",
    "beta = beta0\n",
    "l = loss(beta)\n",
    "g = grad(beta)\n",
    "\n",
    "ls=[]\n",
    "alpha= 0.01\n",
    "for i in range(30):\n",
    "    print(f\"loss = {l:.3f}, beta={beta}, grad= {g}\")\n",
    "    ls.append(l)\n",
    "    beta = beta - alpha * g\n",
    "    l = loss(beta)    \n",
    "    g = grad(beta)"
   ]
  },
  {
   "cell_type": "code",
   "execution_count": 104,
   "id": "2f51571e",
   "metadata": {},
   "outputs": [
    {
     "data": {
      "text/plain": [
       "array([[0.66209705, 0.22016054, 0.11774241],\n",
       "       [0.56980701, 0.27395769, 0.1562353 ],\n",
       "       [0.6332547 , 0.23426018, 0.13248512],\n",
       "       [0.58392497, 0.25986615, 0.15620888],\n",
       "       [0.6837451 , 0.20563499, 0.11061991],\n",
       "       [0.69641294, 0.19590393, 0.10768313],\n",
       "       [0.66697991, 0.20985404, 0.12316606],\n",
       "       [0.63056193, 0.23725351, 0.13218455],\n",
       "       [0.56644343, 0.26857568, 0.1649809 ],\n",
       "       [0.56513181, 0.27754948, 0.15731871],\n",
       "       [0.6745911 , 0.21459408, 0.11081482],\n",
       "       [0.6211639 , 0.23919005, 0.13964605],\n",
       "       [0.56480228, 0.27767901, 0.15751871],\n",
       "       [0.63119572, 0.23475245, 0.13405183],\n",
       "       [0.7549145 , 0.168947  , 0.0761385 ],\n",
       "       [0.79292748, 0.13910335, 0.06796917],\n",
       "       [0.75083179, 0.1653091 , 0.08385911],\n",
       "       [0.66984404, 0.21370952, 0.11644645],\n",
       "       [0.6611084 , 0.22263082, 0.11626079],\n",
       "       [0.70913595, 0.18843881, 0.10242524],\n",
       "       [0.58434066, 0.26820644, 0.1474529 ],\n",
       "       [0.69886473, 0.19328787, 0.1078474 ],\n",
       "       [0.75056154, 0.16370418, 0.08573427],\n",
       "       [0.59929935, 0.24891545, 0.1517852 ],\n",
       "       [0.57153028, 0.26447999, 0.16398973],\n",
       "       [0.53237462, 0.29489061, 0.17273477],\n",
       "       [0.63069298, 0.2322593 , 0.13704772],\n",
       "       [0.64336369, 0.2318231 , 0.12481321],\n",
       "       [0.63974611, 0.23520175, 0.12505214],\n",
       "       [0.58425331, 0.25973943, 0.15600726],\n",
       "       [0.56021242, 0.27536231, 0.16442527],\n",
       "       [0.63340932, 0.23677786, 0.12981282],\n",
       "       [0.74243704, 0.17111881, 0.08644415],\n",
       "       [0.76882259, 0.15609287, 0.07508454],\n",
       "       [0.57360947, 0.2702958 , 0.15609472],\n",
       "       [0.63913326, 0.23547035, 0.12539638],\n",
       "       [0.66433809, 0.22423765, 0.11142426],\n",
       "       [0.67930443, 0.20890947, 0.11178611],\n",
       "       [0.60357576, 0.24814075, 0.14828349],\n",
       "       [0.62722497, 0.24053873, 0.1322363 ],\n",
       "       [0.6878652 , 0.20252152, 0.10961328],\n",
       "       [0.46283941, 0.32890746, 0.20825313],\n",
       "       [0.64306998, 0.22467149, 0.13225853],\n",
       "       [0.66555029, 0.20799953, 0.12645018],\n",
       "       [0.65736124, 0.21414083, 0.12849793],\n",
       "       [0.58169651, 0.26327386, 0.15502963],\n",
       "       [0.6874163 , 0.20241091, 0.11017279],\n",
       "       [0.62053005, 0.23944824, 0.14002172],\n",
       "       [0.67776342, 0.21153318, 0.1107034 ],\n",
       "       [0.62691275, 0.24067154, 0.13241572],\n",
       "       [0.14956367, 0.41907201, 0.43136432],\n",
       "       [0.18392256, 0.39017383, 0.42590361],\n",
       "       [0.12756205, 0.41256178, 0.45987617],\n",
       "       [0.13543739, 0.40255284, 0.46200977],\n",
       "       [0.12840619, 0.40873756, 0.46285625],\n",
       "       [0.14055069, 0.39247066, 0.46697865],\n",
       "       [0.18168403, 0.37806656, 0.44024941],\n",
       "       [0.21601513, 0.38925457, 0.39473031],\n",
       "       [0.12953589, 0.42084538, 0.44961872],\n",
       "       [0.20212406, 0.3697819 , 0.42809404],\n",
       "       [0.14367533, 0.41302162, 0.44330305],\n",
       "       [0.20020652, 0.37807452, 0.42171896],\n",
       "       [0.10962993, 0.44018846, 0.45018161],\n",
       "       [0.13175056, 0.39695286, 0.47129658],\n",
       "       [0.25581797, 0.37225473, 0.3719273 ],\n",
       "       [0.17192185, 0.41066241, 0.41741574],\n",
       "       [0.17282537, 0.37041879, 0.45675584],\n",
       "       [0.15244962, 0.41705797, 0.43049241],\n",
       "       [0.08948192, 0.4122757 , 0.49824238],\n",
       "       [0.15622409, 0.41092478, 0.43285113],\n",
       "       [0.1745033 , 0.3572371 , 0.4682596 ],\n",
       "       [0.18241798, 0.4046888 , 0.41289322],\n",
       "       [0.08592036, 0.40386168, 0.51021797],\n",
       "       [0.1157204 , 0.41083742, 0.47344218],\n",
       "       [0.15895523, 0.41365383, 0.42739094],\n",
       "       [0.16179247, 0.41131417, 0.42689337],\n",
       "       [0.10656253, 0.42312846, 0.47030901],\n",
       "       [0.119855  , 0.39616726, 0.48397774],\n",
       "       [0.15469642, 0.38816034, 0.45714324],\n",
       "       [0.20408524, 0.41144318, 0.38447158],\n",
       "       [0.15603143, 0.41084912, 0.43311946],\n",
       "       [0.16131475, 0.41639593, 0.42228932],\n",
       "       [0.18111115, 0.40352349, 0.41536536],\n",
       "       [0.09334908, 0.38192946, 0.52472146],\n",
       "       [0.17617775, 0.3634821 , 0.46034015],\n",
       "       [0.22446045, 0.35975897, 0.41578059],\n",
       "       [0.14741677, 0.40602216, 0.44656106],\n",
       "       [0.09646987, 0.42668996, 0.47684016],\n",
       "       [0.20747459, 0.37806247, 0.41446295],\n",
       "       [0.156701  , 0.3958034 , 0.44749561],\n",
       "       [0.12818674, 0.39746827, 0.47434499],\n",
       "       [0.15083485, 0.39404362, 0.45512154],\n",
       "       [0.15901889, 0.40861676, 0.43236436],\n",
       "       [0.19996311, 0.39839556, 0.40164133],\n",
       "       [0.15868058, 0.39241252, 0.44890689],\n",
       "       [0.18913121, 0.38923497, 0.42163383],\n",
       "       [0.18103374, 0.3877741 , 0.43119215],\n",
       "       [0.16225097, 0.40643958, 0.43130945],\n",
       "       [0.27225463, 0.37510751, 0.35263787],\n",
       "       [0.17903843, 0.39128957, 0.429672  ],\n",
       "       [0.10136119, 0.32231932, 0.57631949],\n",
       "       [0.10341039, 0.35973339, 0.53685622],\n",
       "       [0.07097113, 0.37238359, 0.55664528],\n",
       "       [0.08017152, 0.36909604, 0.55073245],\n",
       "       [0.08295759, 0.35037338, 0.56666903],\n",
       "       [0.04145721, 0.3673936 , 0.5911492 ],\n",
       "       [0.13553312, 0.35151966, 0.51294722],\n",
       "       [0.04463719, 0.38178843, 0.57357438],\n",
       "       [0.04860117, 0.3779526 , 0.57344623],\n",
       "       [0.10968844, 0.34487139, 0.54544017],\n",
       "       [0.1443874 , 0.36662676, 0.48898585],\n",
       "       [0.08525626, 0.37585   , 0.53889374],\n",
       "       [0.09571458, 0.37122257, 0.53306285],\n",
       "       [0.09821806, 0.35598728, 0.54579466],\n",
       "       [0.12742181, 0.33226428, 0.54031391],\n",
       "       [0.13910957, 0.34600565, 0.51488478],\n",
       "       [0.09084547, 0.37673181, 0.53242272],\n",
       "       [0.07533365, 0.362017  , 0.56264934],\n",
       "       [0.02512912, 0.34771228, 0.6271586 ],\n",
       "       [0.06539546, 0.39398006, 0.54062448],\n",
       "       [0.10237549, 0.35787242, 0.53975209],\n",
       "       [0.13294423, 0.3483497 , 0.51870607],\n",
       "       [0.03146042, 0.37052936, 0.59801022],\n",
       "       [0.10902528, 0.38466633, 0.50630839],\n",
       "       [0.1068334 , 0.35998368, 0.53318293],\n",
       "       [0.07073051, 0.38692286, 0.54234663],\n",
       "       [0.12664005, 0.38010837, 0.49325158],\n",
       "       [0.13932545, 0.37069697, 0.48997758],\n",
       "       [0.07968289, 0.35825842, 0.56205869],\n",
       "       [0.06522238, 0.40347352, 0.5313041 ],\n",
       "       [0.04816537, 0.38663138, 0.56520324],\n",
       "       [0.08542417, 0.38547207, 0.52910376],\n",
       "       [0.08190538, 0.35332637, 0.56476825],\n",
       "       [0.09511008, 0.39587618, 0.50901373],\n",
       "       [0.05752227, 0.38396118, 0.55851655],\n",
       "       [0.06155004, 0.3767676 , 0.56168236],\n",
       "       [0.13821325, 0.33050003, 0.53128673],\n",
       "       [0.09918074, 0.37199858, 0.52882068],\n",
       "       [0.14972306, 0.36761647, 0.48266047],\n",
       "       [0.10926426, 0.37451341, 0.51622233],\n",
       "       [0.10606339, 0.34938905, 0.54454755],\n",
       "       [0.13960496, 0.36655409, 0.49384095],\n",
       "       [0.10341039, 0.35973339, 0.53685622],\n",
       "       [0.09053896, 0.35099592, 0.55846513],\n",
       "       [0.1188604 , 0.33942379, 0.5417158 ],\n",
       "       [0.12405167, 0.36160142, 0.51434692],\n",
       "       [0.08994892, 0.38094949, 0.52910159],\n",
       "       [0.11675628, 0.37090034, 0.51234338],\n",
       "       [0.1541735 , 0.33351192, 0.51231458],\n",
       "       [0.12521878, 0.36250635, 0.51227486]])"
      ]
     },
     "execution_count": 104,
     "metadata": {},
     "output_type": "execute_result"
    }
   ],
   "source": [
    "prob(beta)"
   ]
  },
  {
   "cell_type": "code",
   "execution_count": 105,
   "id": "8305311b",
   "metadata": {},
   "outputs": [
    {
     "data": {
      "text/plain": [
       "27.710905405431927"
      ]
     },
     "execution_count": 105,
     "metadata": {},
     "output_type": "execute_result"
    }
   ],
   "source": [
    "loss(beta0)"
   ]
  },
  {
   "cell_type": "code",
   "execution_count": 112,
   "id": "840c3f0b",
   "metadata": {},
   "outputs": [
    {
     "data": {
      "text/plain": [
       "3.341702880327184"
      ]
     },
     "execution_count": 112,
     "metadata": {},
     "output_type": "execute_result"
    }
   ],
   "source": [
    "loss(beta)"
   ]
  },
  {
   "cell_type": "code",
   "execution_count": 119,
   "id": "99ef943c",
   "metadata": {},
   "outputs": [
    {
     "data": {
      "text/plain": [
       "[<matplotlib.lines.Line2D at 0xa19e1f0>]"
      ]
     },
     "execution_count": 119,
     "metadata": {},
     "output_type": "execute_result"
    },
    {
     "data": {
      "image/png": "[encoded data removed]",
      "text/plain": [
       "<Figure size 432x288 with 1 Axes>"
      ]
     },
     "metadata": {
      "needs_background": "light"
     },
     "output_type": "display_data"
    }
   ],
   "source": [
    "plt.plot(ls)"
   ]
  },
  {
   "cell_type": "code",
   "execution_count": 120,
   "id": "48e952f0",
   "metadata": {},
   "outputs": [
    {
     "data": {
      "text/plain": [
       "array([1, 2, 1, 2, 0, 0, 0, 2, 2, 2, 1, 2, 2, 1, 1, 0, 0, 2, 2, 0, 2, 0,\n",
       "       0, 2, 2, 2, 0, 2, 1, 2, 2, 2, 0, 0, 2, 1, 1, 1, 2, 2, 0, 2, 0, 0,\n",
       "       0, 2, 0, 2, 1, 2, 2, 2, 2, 2, 2, 2, 2, 2, 2, 2, 2, 2, 2, 2, 2, 2,\n",
       "       2, 2, 2, 2, 2, 2, 2, 2, 2, 2, 2, 2, 2, 2, 2, 2, 2, 2, 2, 2, 2, 2,\n",
       "       2, 2, 2, 2, 2, 2, 2, 2, 2, 2, 2, 2, 0, 2, 2, 2, 2, 2, 2, 2, 2, 2,\n",
       "       2, 2, 2, 2, 0, 0, 2, 2, 2, 2, 2, 2, 2, 2, 2, 2, 2, 2, 2, 2, 2, 2,\n",
       "       2, 2, 2, 2, 0, 2, 2, 2, 2, 2, 2, 2, 0, 2, 2, 2, 0, 2], dtype=int32)"
      ]
     },
     "execution_count": 120,
     "metadata": {},
     "output_type": "execute_result"
    }
   ],
   "source": [
    "y_pred = np.argmax(prob(beta), axis=1)\n",
    "y_pred"
   ]
  },
  {
   "cell_type": "code",
   "execution_count": 115,
   "id": "57a24b34",
   "metadata": {},
   "outputs": [
    {
     "data": {
      "text/plain": [
       "array([[16,  0,  6],\n",
       "       [10,  0,  0],\n",
       "       [24, 50, 44]], dtype=int64)"
      ]
     },
     "execution_count": 115,
     "metadata": {},
     "output_type": "execute_result"
    }
   ],
   "source": [
    "from sklearn.metrics import confusion_matrix\n",
    "confusion_matrix(y_pred, y0)"
   ]
  },
  {
   "cell_type": "code",
   "execution_count": 116,
   "id": "fd1a2fdb",
   "metadata": {},
   "outputs": [
    {
     "name": "stdout",
     "output_type": "stream",
     "text": [
      "accuracy = 0.4\n"
     ]
    }
   ],
   "source": [
    "accu = np.sum(y_pred==y0)/n_obs\n",
    "print(f\"accuracy = {accu}\")"
   ]
  },
  {
   "cell_type": "code",
   "execution_count": 262,
   "id": "5d348f0f",
   "metadata": {},
   "outputs": [],
   "source": [
    "class LGR(object):\n",
    "    def __init__(self, alpha=0.1):\n",
    "        self.alpha=alpha\n",
    "        self.beta=None \n",
    "        self.X=None\n",
    "        self.y=None\n",
    "        self.ls= []\n",
    "    \n",
    "\n",
    "    def get_ymatrix(self,y):\n",
    "        import pandas as pd\n",
    "        # print(y.shape)\n",
    "        ymatrix=pd.get_dummies(y).values\n",
    "        return ymatrix\n",
    "    \n",
    "    def prob(self, X, beta):  \n",
    "        n_obs = X.shape[0]\n",
    "        sum_exp= (np.sum(np.exp(X.dot(beta)), axis=1)) # shape= (n_obs, )\n",
    "        sum_exp = sum_exp.reshape(n_obs,1) # shape = (n_obs, 1)\n",
    "        prob = np.exp(X.dot(beta))/sum_exp\n",
    "        return prob\n",
    "    \n",
    "    def __prob(self, beta):\n",
    "        return self.prob(self.X,beta)\n",
    "\n",
    "    def loss(self, X, y, beta):\n",
    "        n_obs = X.shape[0]\n",
    "        p=self.prob(X, beta) \n",
    "        ymatrix=self.get_ymatrix(y)\n",
    "        l= -np.sum(ymatrix.T.dot(np.log(p)))/n_obs\n",
    "        return l\n",
    "\n",
    "    def grad(self, X, y, beta):\n",
    "        n_obs = X.shape[0]\n",
    "        p=self.prob(X,beta)\n",
    "        ymatrix = self.get_ymatrix(y)\n",
    "        return X.T.dot(p-ymatrix)/n_obs\n",
    "\n",
    "    def fit(self, X,y):\n",
    "        self.X = X\n",
    "        self.y = y\n",
    "        ymatrix = self.get_ymatrix(y)\n",
    "        self.ymatrix = ymatrix\n",
    "        K=ymatrix.shape[1]  #分类数\n",
    "        n_features = X.shape[1]\n",
    "        # print((n_features,K))\n",
    "        print(f\"n_features:{n_features}\")\n",
    "        print(f\"K={K}\")\n",
    "        beta0 = np.ones((n_features, K))     \n",
    "        beta = beta0\n",
    "        self.beta = beta\n",
    "        l = self.loss(X, y, beta)\n",
    "        g = self.grad(X, y, beta)       \n",
    "\n",
    "        for i in range(30):\n",
    "            # print(f\"loss = {l:.3f}, beta={beta}, grad= {g}\")\n",
    "            self.ls.append(l)\n",
    "            self.beta = beta\n",
    "            beta = beta - self.alpha * g\n",
    "            print(f\"beta:{beta}\")\n",
    "\n",
    "            l = self.loss(X, y, beta)    \n",
    "            g = self.grad(X, y, beta)\n",
    "\n",
    "    def predict_prob(self,X):\n",
    "        return self.prob(X, self.beta)\n",
    "    \n",
    "    def predict(self,X):\n",
    "        p = self.prob(X, self.beta)\n",
    "        y_pred = np.argmax(p, axis=1)\n",
    "        return y_pred"
   ]
  },
  {
   "cell_type": "code",
   "execution_count": 270,
   "id": "543d685b",
   "metadata": {},
   "outputs": [
    {
     "name": "stdout",
     "output_type": "stream",
     "text": [
      "n_features:2\n",
      "K=3\n",
      "beta:[[1.05555556 0.95555556 0.98888889]\n",
      " [1.03333333 1.         0.96666667]]\n",
      "beta:[[1.09115152 0.92187369 0.98697479]\n",
      " [1.05078096 1.00822734 0.9409917 ]]\n",
      "beta:[[1.11409628 0.89493995 0.99096377]\n",
      " [1.0582289  1.02148729 0.92028381]]\n",
      "beta:[[1.12964632 0.8720072  0.99834649]\n",
      " [1.05989177 1.03759111 0.90251712]]\n",
      "beta:[[1.140912   0.85147466 1.00761334]\n",
      " [1.05826538 1.05525821 0.88647641]]\n",
      "beta:[[1.1496676  0.83243159 1.01790081]\n",
      " [1.05477568 1.07375699 0.87146734]]\n",
      "beta:[[1.15692971 0.81435301 1.02871728]\n",
      " [1.0502408  1.09266437 0.85709483]]\n",
      "beta:[[1.16328723 0.79693033 1.03978243]\n",
      " [1.04513518 1.11173138 0.84313344]]\n",
      "beta:[[1.16908442 0.77997878 1.0509368 ]\n",
      " [1.03973636 1.13080917 0.82945447]]\n",
      "beta:[[1.17452381 0.76338573 1.06209046]\n",
      " [1.0342077  1.14980763 0.81598467]]\n",
      "beta:[[1.17972502 0.74708139 1.07319359]\n",
      " [1.02864563 1.16867173 0.80268264]]\n",
      "beta:[[1.18475887 0.73102171 1.08421942]\n",
      " [1.02310718 1.18736766 0.78952516]]\n",
      "beta:[[1.18966736 0.71517834 1.0951543 ]\n",
      " [1.01762599 1.20587474 0.77649927]]\n",
      "beta:[[1.1944754  0.69953265 1.10599194]\n",
      " [1.01222183 1.22418042 0.76359775]]\n",
      "beta:[[1.19919781 0.68407207 1.11673012]\n",
      " [1.00690615 1.24227737 0.75081648]]\n",
      "beta:[[1.20384338 0.66878787 1.12736875]\n",
      " [1.00168546 1.26016159 0.73815295]]\n",
      "beta:[[1.20841737 0.65367379 1.13790884]\n",
      " [0.99656328 1.27783129 0.72560543]]\n",
      "beta:[[1.21292292 0.63872519 1.14835189]\n",
      " [0.99154132 1.29528615 0.71317253]]\n",
      "beta:[[1.21736196 0.62393847 1.15869957]\n",
      " [0.98662019 1.31252686 0.70085296]]\n",
      "beta:[[1.22173569 0.60931073 1.16895357]\n",
      " [0.98179981 1.32955478 0.68864541]]\n",
      "beta:[[1.22604491 0.59483954 1.17911555]\n",
      " [0.97707969 1.3463718  0.67654851]]\n",
      "beta:[[1.23029018 0.58052276 1.18918706]\n",
      " [0.97245904 1.36298013 0.66456083]]\n",
      "beta:[[1.23447193 0.56635848 1.19916959]\n",
      " [0.96793694 1.37938224 0.65268082]]\n",
      "beta:[[1.23859055 0.55234492 1.20906453]\n",
      " [0.96351229 1.39558078 0.64090692]]\n",
      "beta:[[1.24264641 0.53848037 1.21887322]\n",
      " [0.95918397 1.41157854 0.62923749]]\n",
      "beta:[[1.24663986 0.5247632  1.22859695]\n",
      " [0.95495076 1.42737839 0.61767085]]\n",
      "beta:[[1.25057127 0.51119179 1.23823694]\n",
      " [0.95081141 1.44298327 0.60620532]]\n",
      "beta:[[1.25444105 0.49776455 1.2477944 ]\n",
      " [0.94676464 1.45839617 0.59483919]]\n",
      "beta:[[1.2582496  0.48447988 1.25727052]\n",
      " [0.94280916 1.47362011 0.58357074]]\n",
      "beta:[[1.26199737 0.4713362  1.26666643]\n",
      " [0.93894364 1.4886581  0.57239826]]\n"
     ]
    },
    {
     "data": {
      "text/plain": [
       "[<matplotlib.lines.Line2D at 0xb525358>]"
      ]
     },
     "execution_count": 270,
     "metadata": {},
     "output_type": "execute_result"
    },
    {
     "data": {
      "image/png": "[encoded data removed]",
      "text/plain": [
       "<Figure size 432x288 with 1 Axes>"
      ]
     },
     "metadata": {
      "needs_background": "light"
     },
     "output_type": "display_data"
    }
   ],
   "source": [
    "X=np.array([[1,2],[2,1],[4,3]])\n",
    "y=np.array([2,3,1])\n",
    "lr= LGR(alpha =0.1)\n",
    "lr.fit(X,y)\n",
    "import matplotlib.pyplot as plt\n",
    "plt.plot(lr.ls)"
   ]
  },
  {
   "cell_type": "code",
   "execution_count": 274,
   "id": "ab9fc427",
   "metadata": {},
   "outputs": [
    {
     "data": {
      "text/plain": [
       "array([[0.33333333, 0.33333333, 0.33333333],\n",
       "       [0.33333333, 0.33333333, 0.33333333],\n",
       "       [0.33333333, 0.33333333, 0.33333333]])"
      ]
     },
     "execution_count": 274,
     "metadata": {},
     "output_type": "execute_result"
    }
   ],
   "source": [
    "beta = np.ones((2,3))\n",
    "lr.prob(X, beta)"
   ]
  },
  {
   "cell_type": "code",
   "execution_count": 275,
   "id": "57ba8a53",
   "metadata": {},
   "outputs": [
    {
     "data": {
      "text/plain": [
       "array([[-5.55555556e-01,  4.44444444e-01,  1.11111111e-01],\n",
       "       [-3.33333333e-01, -7.40148683e-17,  3.33333333e-01]])"
      ]
     },
     "execution_count": 275,
     "metadata": {},
     "output_type": "execute_result"
    }
   ],
   "source": [
    "lr.grad(X,y, beta)"
   ]
  },
  {
   "cell_type": "code",
   "execution_count": 276,
   "id": "61134639",
   "metadata": {},
   "outputs": [
    {
     "data": {
      "text/plain": [
       "3.295836866004329"
      ]
     },
     "execution_count": 276,
     "metadata": {},
     "output_type": "execute_result"
    }
   ],
   "source": [
    "lr.loss(X,y, beta)"
   ]
  },
  {
   "cell_type": "code",
   "execution_count": 277,
   "id": "8187418b",
   "metadata": {},
   "outputs": [
    {
     "data": {
      "text/plain": [
       "array([[-5.55555556e-01,  4.44444444e-01,  1.11111111e-01],\n",
       "       [-3.33333333e-01, -7.40148683e-17,  3.33333333e-01]])"
      ]
     },
     "execution_count": 277,
     "metadata": {},
     "output_type": "execute_result"
    }
   ],
   "source": [
    "lr.grad(X,y, beta)"
   ]
  },
  {
   "cell_type": "code",
   "execution_count": 320,
   "id": "e698e80f",
   "metadata": {},
   "outputs": [
    {
     "data": {
      "text/plain": [
       "array([-3.19189120e-16, -5.55111512e-17])"
      ]
     },
     "execution_count": 320,
     "metadata": {},
     "output_type": "execute_result"
    }
   ],
   "source": [
    "np.sum(lr.grad(X,y, beta), axis=1)"
   ]
  },
  {
   "cell_type": "code",
   "execution_count": 280,
   "id": "2535198d",
   "metadata": {},
   "outputs": [
    {
     "data": {
      "text/plain": [
       "array([[1.05555556, 0.95555556, 0.98888889],\n",
       "       [1.03333333, 1.        , 0.96666667]])"
      ]
     },
     "execution_count": 280,
     "metadata": {},
     "output_type": "execute_result"
    }
   ],
   "source": [
    "alpha =0.1\n",
    "beta2 = beta - alpha * lr.grad(X, y, beta)\n",
    "beta2"
   ]
  },
  {
   "cell_type": "code",
   "execution_count": 281,
   "id": "8a62abbf",
   "metadata": {},
   "outputs": [
    {
     "data": {
      "text/plain": [
       "3.33238400929644"
      ]
     },
     "execution_count": 281,
     "metadata": {},
     "output_type": "execute_result"
    }
   ],
   "source": [
    "lr.loss(X, y, beta2)"
   ]
  },
  {
   "cell_type": "code",
   "execution_count": 294,
   "id": "6a1d9bb9",
   "metadata": {},
   "outputs": [
    {
     "data": {
      "text/plain": [
       "array([[4.4408921e-15, 4.4408921e-15, 4.4408921e-15],\n",
       "       [4.4408921e-15, 4.4408921e-15, 4.4408921e-15]])"
      ]
     },
     "execution_count": 294,
     "metadata": {},
     "output_type": "execute_result"
    }
   ],
   "source": [
    "(lr.loss(X,y, beta) - lr.loss(X, y, beta-0.1))/(beta-beta+0.1)"
   ]
  },
  {
   "cell_type": "code",
   "execution_count": 296,
   "id": "1fbb12c1",
   "metadata": {},
   "outputs": [
    {
     "data": {
      "text/plain": [
       "array([[4, 1, 2],\n",
       "       [3, 2, 1]])"
      ]
     },
     "execution_count": 296,
     "metadata": {},
     "output_type": "execute_result"
    }
   ],
   "source": [
    "ymatrix = lr.get_ymatrix(y)\n",
    "X.T.dot(ymatrix)"
   ]
  },
  {
   "cell_type": "code",
   "execution_count": 297,
   "id": "596cff7c",
   "metadata": {},
   "outputs": [
    {
     "data": {
      "text/plain": [
       "array([[0, 1, 0],\n",
       "       [0, 0, 1],\n",
       "       [1, 0, 0]], dtype=uint8)"
      ]
     },
     "execution_count": 297,
     "metadata": {},
     "output_type": "execute_result"
    }
   ],
   "source": [
    "ymatrix"
   ]
  },
  {
   "cell_type": "code",
   "execution_count": 298,
   "id": "aec2788d",
   "metadata": {},
   "outputs": [
    {
     "data": {
      "text/plain": [
       "array([[1, 2, 4],\n",
       "       [2, 1, 3]])"
      ]
     },
     "execution_count": 298,
     "metadata": {},
     "output_type": "execute_result"
    }
   ],
   "source": [
    "X.T"
   ]
  },
  {
   "cell_type": "code",
   "execution_count": 301,
   "id": "bef61a06",
   "metadata": {},
   "outputs": [
    {
     "data": {
      "text/plain": [
       "array([[0.33333333, 0.33333333, 0.33333333],\n",
       "       [0.33333333, 0.33333333, 0.33333333],\n",
       "       [0.33333333, 0.33333333, 0.33333333]])"
      ]
     },
     "execution_count": 301,
     "metadata": {},
     "output_type": "execute_result"
    }
   ],
   "source": [
    "p"
   ]
  },
  {
   "cell_type": "code",
   "execution_count": 300,
   "id": "09db8a91",
   "metadata": {},
   "outputs": [
    {
     "data": {
      "text/plain": [
       "array([[4, 1, 2],\n",
       "       [3, 2, 1]])"
      ]
     },
     "execution_count": 300,
     "metadata": {},
     "output_type": "execute_result"
    }
   ],
   "source": [
    "X.T.dot(ymatrix)"
   ]
  },
  {
   "cell_type": "code",
   "execution_count": 303,
   "id": "676a24e4",
   "metadata": {},
   "outputs": [
    {
     "data": {
      "text/plain": [
       "array([[ 0.33333333, -0.66666667,  0.33333333],\n",
       "       [ 0.33333333,  0.33333333, -0.66666667],\n",
       "       [-0.66666667,  0.33333333,  0.33333333]])"
      ]
     },
     "execution_count": 303,
     "metadata": {},
     "output_type": "execute_result"
    }
   ],
   "source": [
    "p-ymatrix"
   ]
  },
  {
   "cell_type": "code",
   "execution_count": 302,
   "id": "5be78c4a",
   "metadata": {},
   "outputs": [
    {
     "data": {
      "text/plain": [
       "array([[-1.66666667e+00,  1.33333333e+00,  3.33333333e-01],\n",
       "       [-1.00000000e+00, -2.22044605e-16,  1.00000000e+00]])"
      ]
     },
     "execution_count": 302,
     "metadata": {},
     "output_type": "execute_result"
    }
   ],
   "source": [
    "X.T.dot(p-ymatrix)"
   ]
  },
  {
   "cell_type": "code",
   "execution_count": 304,
   "id": "47dd9ad2",
   "metadata": {},
   "outputs": [
    {
     "data": {
      "text/plain": [
       "array([[1., 1., 1.],\n",
       "       [1., 1., 1.]])"
      ]
     },
     "execution_count": 304,
     "metadata": {},
     "output_type": "execute_result"
    }
   ],
   "source": [
    "beta"
   ]
  },
  {
   "cell_type": "code",
   "execution_count": 313,
   "id": "296ccd0a",
   "metadata": {},
   "outputs": [
    {
     "data": {
      "text/plain": [
       "array([[-5.55555556e-01,  4.44444444e-01,  1.11111111e-01],\n",
       "       [-3.33333333e-01, -7.40148683e-17,  3.33333333e-01]])"
      ]
     },
     "execution_count": 313,
     "metadata": {},
     "output_type": "execute_result"
    }
   ],
   "source": [
    "X.T.dot(p-ymatrix)/3"
   ]
  },
  {
   "cell_type": "code",
   "execution_count": 316,
   "id": "bcc26349",
   "metadata": {},
   "outputs": [
    {
     "data": {
      "text/plain": [
       "array([[1.00055556, 0.99955556, 0.99988889],\n",
       "       [1.00033333, 1.        , 0.99966667]])"
      ]
     },
     "execution_count": 316,
     "metadata": {},
     "output_type": "execute_result"
    }
   ],
   "source": [
    "beta1 = beta-0.001*X.T.dot(p-ymatrix)/3\n",
    "beta1"
   ]
  },
  {
   "cell_type": "code",
   "execution_count": 317,
   "id": "10b1c087",
   "metadata": {},
   "outputs": [
    {
     "data": {
      "text/plain": [
       "array([[0.33374086, 0.33318509, 0.33307405],\n",
       "       [0.33381499, 0.33303699, 0.33314802],\n",
       "       [0.33440827, 0.3327404 , 0.33285133]])"
      ]
     },
     "execution_count": 317,
     "metadata": {},
     "output_type": "execute_result"
    }
   ],
   "source": [
    "lr.prob(X, beta1)"
   ]
  },
  {
   "cell_type": "code",
   "execution_count": 318,
   "id": "c703c4f6",
   "metadata": {},
   "outputs": [
    {
     "data": {
      "text/plain": [
       "3.295836866004329"
      ]
     },
     "execution_count": 318,
     "metadata": {},
     "output_type": "execute_result"
    }
   ],
   "source": [
    "-np.sum(np.log(p)*ymatrix)"
   ]
  },
  {
   "cell_type": "code",
   "execution_count": 241,
   "id": "83b72a33",
   "metadata": {},
   "outputs": [
    {
     "data": {
      "text/plain": [
       "array([[-0.        , -1.09861229, -0.        ],\n",
       "       [-0.        , -0.        , -1.09861229],\n",
       "       [-1.09861229, -0.        , -0.        ]])"
      ]
     },
     "execution_count": 241,
     "metadata": {},
     "output_type": "execute_result"
    }
   ],
   "source": [
    "ymatrix = lr.get_ymatrix(y)\n",
    "np.log(p)*ymatrix"
   ]
  },
  {
   "cell_type": "code",
   "execution_count": 244,
   "id": "180e7977",
   "metadata": {},
   "outputs": [
    {
     "data": {
      "text/plain": [
       "-3.295836866004329"
      ]
     },
     "execution_count": 244,
     "metadata": {},
     "output_type": "execute_result"
    }
   ],
   "source": [
    "np.sum(np.log(p)*ymatrix)"
   ]
  },
  {
   "cell_type": "code",
   "execution_count": 246,
   "id": "f9b04f02",
   "metadata": {},
   "outputs": [
    {
     "data": {
      "text/plain": [
       "array([[-5.55555556e-01,  4.44444444e-01,  1.11111111e-01],\n",
       "       [-3.33333333e-01, -7.40148683e-17,  3.33333333e-01]])"
      ]
     },
     "execution_count": 246,
     "metadata": {},
     "output_type": "execute_result"
    }
   ],
   "source": [
    "X.T.dot(p-ymatrix)/X.shape[0]"
   ]
  },
  {
   "cell_type": "code",
   "execution_count": 250,
   "id": "8210a529",
   "metadata": {},
   "outputs": [
    {
     "data": {
      "text/plain": [
       "array([[ 0.66666667,  0.66666667, -1.33333333],\n",
       "       [ 0.33333333,  0.33333333, -0.66666667]])"
      ]
     },
     "execution_count": 250,
     "metadata": {},
     "output_type": "execute_result"
    }
   ],
   "source": [
    "X[1:2].T.dot(p[1:2]-ymatrix[1:2])"
   ]
  },
  {
   "cell_type": "code",
   "execution_count": 181,
   "id": "57714c35",
   "metadata": {},
   "outputs": [
    {
     "name": "stdout",
     "output_type": "stream",
     "text": [
      "[2 2 2 2 2 2 2 2 2 2 2 2 2 2 2 2 0 2 2 2 2 2 2 0 0 2 2 0 0 2 0 2 2 0 2 2 2\n",
      " 0 2 2 2 2 0 0 2 2 0 2 0 2 2 0 0 2 0 0 0 2 2 2 0 0 0 2 2 0 0 2 0 2 2 2 2 0\n",
      " 2 0 2 0 0 2 0 2 2 2 2 2 2 2 2 0 2 2 2 0 2 2 2 2 0 0 0 2 2 2 0]\n",
      "[[34  0  0]\n",
      " [ 0  0  0]\n",
      " [ 0 32 39]]\n"
     ]
    }
   ],
   "source": [
    "y_train_pred=lgr.predict(X_train)\n",
    "print(y_train_pred)\n",
    "print(confusion_matrix(y_train_pred, np.argmax(y_train, axis=1)))"
   ]
  },
  {
   "cell_type": "code",
   "execution_count": 188,
   "id": "8b829488",
   "metadata": {},
   "outputs": [
    {
     "data": {
      "text/plain": [
       "0.6952380952380952"
      ]
     },
     "execution_count": 188,
     "metadata": {},
     "output_type": "execute_result"
    }
   ],
   "source": [
    "accuracy_score(y_train_pred, np.argmax(y_train, axis=1))"
   ]
  },
  {
   "cell_type": "code",
   "execution_count": 189,
   "id": "8338402f",
   "metadata": {},
   "outputs": [
    {
     "name": "stdout",
     "output_type": "stream",
     "text": [
      "0.6\n",
      "[[16  0  0]\n",
      " [ 0  0  0]\n",
      " [ 0 18 11]]\n"
     ]
    }
   ],
   "source": [
    "y_test_pred=lgr.predict(X_test)\n",
    "print(accuracy_score(y_test_pred, np.argmax(y_test, axis=1)))\n",
    "print(confusion_matrix(y_test_pred, np.argmax(y_test, axis=1)))"
   ]
  },
  {
   "cell_type": "code",
   "execution_count": 190,
   "id": "733fc673",
   "metadata": {},
   "outputs": [
    {
     "data": {
      "text/plain": [
       "array([[ 0.45900276,  0.33398702,  0.20701022],\n",
       "       [ 0.64253059,  0.22240722,  0.13506219],\n",
       "       [-0.12524695,  0.44285749,  0.68238946],\n",
       "       [ 0.11744158,  0.34589918,  0.53665924]])"
      ]
     },
     "execution_count": 190,
     "metadata": {},
     "output_type": "execute_result"
    }
   ],
   "source": [
    "lgr.beta"
   ]
  },
  {
   "cell_type": "code",
   "execution_count": 191,
   "id": "be54dac8",
   "metadata": {},
   "outputs": [
    {
     "data": {
      "text/plain": [
       "array([2, 2, 0, 2, 0, 2, 0, 2, 2, 2, 2, 2, 2, 2, 2, 0, 2, 2, 0, 0, 2, 2,\n",
       "       0, 0, 2, 0, 0, 2, 2, 0, 2, 2, 0, 2, 2, 2, 0, 2, 2, 2, 2, 0, 2, 0,\n",
       "       0], dtype=int32)"
      ]
     },
     "execution_count": 191,
     "metadata": {},
     "output_type": "execute_result"
    }
   ],
   "source": [
    "lgr.predict(X_test)"
   ]
  },
  {
   "cell_type": "code",
   "execution_count": 215,
   "id": "4a194566",
   "metadata": {},
   "outputs": [
    {
     "data": {
      "text/plain": [
       "50.24"
      ]
     },
     "execution_count": 215,
     "metadata": {},
     "output_type": "execute_result"
    }
   ],
   "source": [
    "def size(r):\n",
    "    return r*r*10\n",
    "class Circle(object):\n",
    "    def __init__(self, r=0):\n",
    "        self.r=r\n",
    "    def size(self, r):\n",
    "        self.r = r\n",
    "        return self.r*self.r*3.14\n",
    "    def cal(self,):\n",
    "        return self.size(4)\n",
    "    \n",
    "l = Circle(3)\n",
    "l.cal()"
   ]
  },
  {
   "cell_type": "code",
   "execution_count": 216,
   "id": "a414613e",
   "metadata": {},
   "outputs": [
    {
     "data": {
      "text/plain": [
       "50.24"
      ]
     },
     "execution_count": 216,
     "metadata": {},
     "output_type": "execute_result"
    }
   ],
   "source": [
    "l.size(4)"
   ]
  }
 ],
 "metadata": {
  "kernelspec": {
   "display_name": "Python 3",
   "language": "python",
   "name": "python3"
  },
  "language_info": {
   "codemirror_mode": {
    "name": "ipython",
    "version": 3
   },
   "file_extension": ".py",
   "mimetype": "text/x-python",
   "name": "python",
   "nbconvert_exporter": "python",
   "pygments_lexer": "ipython3",
   "version": "3.8.8"
  }
 },
 "nbformat": 4,
 "nbformat_minor": 5
}
